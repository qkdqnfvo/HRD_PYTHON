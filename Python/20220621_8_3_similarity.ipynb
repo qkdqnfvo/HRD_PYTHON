{
 "cells": [
  {
   "cell_type": "code",
   "execution_count": 2,
   "metadata": {},
   "outputs": [
    {
     "name": "stdout",
     "output_type": "stream",
     "text": [
      "Requirement already satisfied: sentence-transformers in c:\\users\\test\\.conda\\envs\\hrd\\lib\\site-packages (2.2.0)\n",
      "Requirement already satisfied: transformers<5.0.0,>=4.6.0 in c:\\users\\test\\.conda\\envs\\hrd\\lib\\site-packages (from sentence-transformers) (4.20.0)\n",
      "Requirement already satisfied: sentencepiece in c:\\users\\test\\.conda\\envs\\hrd\\lib\\site-packages (from sentence-transformers) (0.1.96)\n",
      "Requirement already satisfied: scipy in c:\\users\\test\\.conda\\envs\\hrd\\lib\\site-packages (from sentence-transformers) (1.7.3)\n",
      "Requirement already satisfied: numpy in c:\\users\\test\\.conda\\envs\\hrd\\lib\\site-packages (from sentence-transformers) (1.22.3)\n",
      "Requirement already satisfied: torch>=1.6.0 in c:\\users\\test\\.conda\\envs\\hrd\\lib\\site-packages (from sentence-transformers) (1.11.0)\n",
      "Requirement already satisfied: tqdm in c:\\users\\test\\.conda\\envs\\hrd\\lib\\site-packages (from sentence-transformers) (4.64.0)\n",
      "Requirement already satisfied: huggingface-hub in c:\\users\\test\\.conda\\envs\\hrd\\lib\\site-packages (from sentence-transformers) (0.7.0)\n",
      "Requirement already satisfied: scikit-learn in c:\\users\\test\\.conda\\envs\\hrd\\lib\\site-packages (from sentence-transformers) (1.0.2)\n",
      "Requirement already satisfied: nltk in c:\\users\\test\\.conda\\envs\\hrd\\lib\\site-packages (from sentence-transformers) (3.7)\n",
      "Requirement already satisfied: torchvision in c:\\users\\test\\.conda\\envs\\hrd\\lib\\site-packages (from sentence-transformers) (0.12.0)\n",
      "Requirement already satisfied: typing-extensions in c:\\users\\test\\.conda\\envs\\hrd\\lib\\site-packages (from torch>=1.6.0->sentence-transformers) (4.2.0)\n",
      "Requirement already satisfied: filelock in c:\\users\\test\\.conda\\envs\\hrd\\lib\\site-packages (from transformers<5.0.0,>=4.6.0->sentence-transformers) (3.7.1)\n",
      "Requirement already satisfied: packaging>=20.0 in c:\\users\\test\\.conda\\envs\\hrd\\lib\\site-packages (from transformers<5.0.0,>=4.6.0->sentence-transformers) (21.3)\n",
      "Requirement already satisfied: requests in c:\\users\\test\\.conda\\envs\\hrd\\lib\\site-packages (from transformers<5.0.0,>=4.6.0->sentence-transformers) (2.28.0)\n",
      "Requirement already satisfied: tokenizers!=0.11.3,<0.13,>=0.11.1 in c:\\users\\test\\.conda\\envs\\hrd\\lib\\site-packages (from transformers<5.0.0,>=4.6.0->sentence-transformers) (0.12.1)\n",
      "Requirement already satisfied: regex!=2019.12.17 in c:\\users\\test\\.conda\\envs\\hrd\\lib\\site-packages (from transformers<5.0.0,>=4.6.0->sentence-transformers) (2022.6.2)\n",
      "Requirement already satisfied: pyyaml>=5.1 in c:\\users\\test\\.conda\\envs\\hrd\\lib\\site-packages (from transformers<5.0.0,>=4.6.0->sentence-transformers) (6.0)\n",
      "Requirement already satisfied: pyparsing!=3.0.5,>=2.0.2 in c:\\users\\test\\.conda\\envs\\hrd\\lib\\site-packages (from packaging>=20.0->transformers<5.0.0,>=4.6.0->sentence-transformers) (3.0.4)\n",
      "Requirement already satisfied: colorama in c:\\users\\test\\.conda\\envs\\hrd\\lib\\site-packages (from tqdm->sentence-transformers) (0.4.4)\n",
      "Requirement already satisfied: joblib in c:\\users\\test\\.conda\\envs\\hrd\\lib\\site-packages (from nltk->sentence-transformers) (1.1.0)\n",
      "Requirement already satisfied: click in c:\\users\\test\\.conda\\envs\\hrd\\lib\\site-packages (from nltk->sentence-transformers) (8.1.3)\n",
      "Requirement already satisfied: certifi>=2017.4.17 in c:\\users\\test\\.conda\\envs\\hrd\\lib\\site-packages (from requests->transformers<5.0.0,>=4.6.0->sentence-transformers) (2022.5.18.1)\n",
      "Requirement already satisfied: charset-normalizer~=2.0.0 in c:\\users\\test\\.conda\\envs\\hrd\\lib\\site-packages (from requests->transformers<5.0.0,>=4.6.0->sentence-transformers) (2.0.12)\n",
      "Requirement already satisfied: urllib3<1.27,>=1.21.1 in c:\\users\\test\\.conda\\envs\\hrd\\lib\\site-packages (from requests->transformers<5.0.0,>=4.6.0->sentence-transformers) (1.26.9)\n",
      "Requirement already satisfied: idna<4,>=2.5 in c:\\users\\test\\.conda\\envs\\hrd\\lib\\site-packages (from requests->transformers<5.0.0,>=4.6.0->sentence-transformers) (3.3)\n",
      "Requirement already satisfied: threadpoolctl>=2.0.0 in c:\\users\\test\\.conda\\envs\\hrd\\lib\\site-packages (from scikit-learn->sentence-transformers) (2.2.0)\n",
      "Requirement already satisfied: pillow!=8.3.*,>=5.3.0 in c:\\users\\test\\.conda\\envs\\hrd\\lib\\site-packages (from torchvision->sentence-transformers) (9.0.1)\n"
     ]
    }
   ],
   "source": [
    "# !pip install -U sentence-transformers"
   ]
  },
  {
   "cell_type": "code",
   "execution_count": 3,
   "metadata": {},
   "outputs": [
    {
     "name": "stderr",
     "output_type": "stream",
     "text": [
      "c:\\Users\\test\\.conda\\envs\\HRD\\lib\\site-packages\\tqdm\\auto.py:22: TqdmWarning: IProgress not found. Please update jupyter and ipywidgets. See https://ipywidgets.readthedocs.io/en/stable/user_install.html\n",
      "  from .autonotebook import tqdm as notebook_tqdm\n",
      "Downloading: 100%|██████████| 1.18k/1.18k [00:00<00:00, 1.18MB/s]\n",
      "Downloading: 100%|██████████| 190/190 [00:00<00:00, 93.6kB/s]\n",
      "Downloading: 100%|██████████| 4.86k/4.86k [00:00<00:00, 1.52MB/s]\n",
      "Downloading: 100%|██████████| 744/744 [00:00<00:00, 712kB/s]\n",
      "Downloading: 100%|██████████| 123/123 [00:00<00:00, 124kB/s]\n",
      "Downloading: 100%|██████████| 931/931 [00:00<00:00, 897kB/s]\n",
      "Downloading: 100%|██████████| 229/229 [00:00<00:00, 45.9kB/s]\n",
      "Downloading: 100%|██████████| 443M/443M [00:05<00:00, 85.2MB/s] \n",
      "Downloading: 100%|██████████| 53.0/53.0 [00:00<00:00, 53.0kB/s]\n",
      "Downloading: 100%|██████████| 302/302 [00:00<00:00, 302kB/s]\n",
      "Downloading: 100%|██████████| 156/156 [00:00<00:00, 38.0kB/s]\n",
      "Downloading: 100%|██████████| 495k/495k [00:08<00:00, 59.6kB/s] \n",
      "Downloading: 100%|██████████| 585/585 [00:00<00:00, 556kB/s]\n",
      "Downloading: 100%|██████████| 248k/248k [00:02<00:00, 102kB/s]  \n"
     ]
    },
    {
     "name": "stdout",
     "output_type": "stream",
     "text": [
      "[[-0.37510443 -0.77338403  0.5927713  ...  0.579235    0.32683447\n",
      "  -0.6508968 ]\n",
      " [-0.09361703 -0.18191501 -0.19230817 ... -0.03165794  0.30412498\n",
      "  -0.26793626]]\n"
     ]
    }
   ],
   "source": [
    "from sentence_transformers import SentenceTransformer\n",
    "sentences = [\"안녕하세요?\", \"한국어 문장 임베딩을 위한 버트 모델입니다.\"]\n",
    "\n",
    "model = SentenceTransformer('jhgan/ko-sroberta-multitask')\n",
    "embeddings = model.encode(sentences)\n",
    "print(embeddings)"
   ]
  },
  {
   "cell_type": "code",
   "execution_count": 42,
   "metadata": {},
   "outputs": [],
   "source": [
    "import pandas as pd\n",
    "from sklearn.metrics.pairwise import cosine_similarity"
   ]
  },
  {
   "cell_type": "code",
   "execution_count": 28,
   "metadata": {},
   "outputs": [],
   "source": [
    "df = pd.read_csv('./data/chat_bot/wellness_dataset_original.csv')\n",
    "df.drop(['Unnamed: 3'], axis=1, inplace=True)\n",
    "df = df[~df['챗봇'].isna()]"
   ]
  },
  {
   "cell_type": "code",
   "execution_count": 29,
   "metadata": {},
   "outputs": [
    {
     "name": "stdout",
     "output_type": "stream",
     "text": [
      "<class 'pandas.core.frame.DataFrame'>\n",
      "Int64Index: 1034 entries, 0 to 5215\n",
      "Data columns (total 3 columns):\n",
      " #   Column  Non-Null Count  Dtype \n",
      "---  ------  --------------  ----- \n",
      " 0   구분      1034 non-null   object\n",
      " 1   유저      1034 non-null   object\n",
      " 2   챗봇      1034 non-null   object\n",
      "dtypes: object(3)\n",
      "memory usage: 32.3+ KB\n"
     ]
    }
   ],
   "source": [
    "df.info()"
   ]
  },
  {
   "cell_type": "code",
   "execution_count": 35,
   "metadata": {},
   "outputs": [
    {
     "data": {
      "text/html": [
       "<div>\n",
       "<style scoped>\n",
       "    .dataframe tbody tr th:only-of-type {\n",
       "        vertical-align: middle;\n",
       "    }\n",
       "\n",
       "    .dataframe tbody tr th {\n",
       "        vertical-align: top;\n",
       "    }\n",
       "\n",
       "    .dataframe thead th {\n",
       "        text-align: right;\n",
       "    }\n",
       "</style>\n",
       "<table border=\"1\" class=\"dataframe\">\n",
       "  <thead>\n",
       "    <tr style=\"text-align: right;\">\n",
       "      <th></th>\n",
       "      <th>구분</th>\n",
       "      <th>유저</th>\n",
       "      <th>챗봇</th>\n",
       "      <th>embedding</th>\n",
       "    </tr>\n",
       "  </thead>\n",
       "  <tbody>\n",
       "    <tr>\n",
       "      <th>0</th>\n",
       "      <td>감정/감정조절이상</td>\n",
       "      <td>제 감정이 이상해진 것 같아요. 남편만 보면 화가 치밀어 오르고 감정 조절이 안되요.</td>\n",
       "      <td>감정이 조절이 안 될 때만큼 힘들 때는 없는 거 같아요.</td>\n",
       "      <td>[]</td>\n",
       "    </tr>\n",
       "    <tr>\n",
       "      <th>1</th>\n",
       "      <td>감정/감정조절이상</td>\n",
       "      <td>더 이상 내 감정을 내가 컨트롤 못 하겠어.</td>\n",
       "      <td>저도 그 기분 이해해요. 많이 힘드시죠?</td>\n",
       "      <td>[]</td>\n",
       "    </tr>\n",
       "    <tr>\n",
       "      <th>2</th>\n",
       "      <td>감정/감정조절이상</td>\n",
       "      <td>하루종일 오르락내리락 롤러코스터 타는 기분이에요.</td>\n",
       "      <td>그럴 때는 밥은 잘 먹었는지, 잠은 잘 잤는지 체크해보는 것도 좋아요.</td>\n",
       "      <td>[]</td>\n",
       "    </tr>\n",
       "    <tr>\n",
       "      <th>3</th>\n",
       "      <td>감정/감정조절이상/화</td>\n",
       "      <td>평소 다른 일을 할 때도 비슷해요. 생각한대로 안되면 화가 나고…그런 상황이 지속되...</td>\n",
       "      <td>화가 폭발할 것 같을 때는 그 자리를 피하는 것도 좋은 방법이라고 생각해요.</td>\n",
       "      <td>[]</td>\n",
       "    </tr>\n",
       "    <tr>\n",
       "      <th>4</th>\n",
       "      <td>감정/감정조절이상/화</td>\n",
       "      <td>예전보다 화내는 게 과격해진 거 같아.</td>\n",
       "      <td>정말 힘드시겠어요. 화는 남에게도 스스로에게도 상처를 주잖아요.</td>\n",
       "      <td>[]</td>\n",
       "    </tr>\n",
       "    <tr>\n",
       "      <th>...</th>\n",
       "      <td>...</td>\n",
       "      <td>...</td>\n",
       "      <td>...</td>\n",
       "      <td>...</td>\n",
       "    </tr>\n",
       "    <tr>\n",
       "      <th>1029</th>\n",
       "      <td>치료이력/응급실</td>\n",
       "      <td>그 사람이 응급실 의사한테 뭐라고 속닥거리니까, 저보고 갑자기 응급처치 끝났다고, ...</td>\n",
       "      <td>응급실이 있어서 다행이네요. 큰 문제는 없으신 거죠?</td>\n",
       "      <td>[]</td>\n",
       "    </tr>\n",
       "    <tr>\n",
       "      <th>1030</th>\n",
       "      <td>치료이력/응급실</td>\n",
       "      <td>파편이 튀어서 그 때 저도 응급실 가서 치료 받기도 했고…</td>\n",
       "      <td>응급실에 가셨다니 정말 놀랐어요. 아무 문제 없으신가요? 걱정 되네요.</td>\n",
       "      <td>[]</td>\n",
       "    </tr>\n",
       "    <tr>\n",
       "      <th>1031</th>\n",
       "      <td>현재상태/증상악화</td>\n",
       "      <td>지금 상태가 너무 안 좋아서 학교 안 나가고 있어요.</td>\n",
       "      <td>상태가 더 안 좋아지셨군요. 걱정이 되네요.</td>\n",
       "      <td>[]</td>\n",
       "    </tr>\n",
       "    <tr>\n",
       "      <th>1032</th>\n",
       "      <td>현재상태/증상악화</td>\n",
       "      <td>진짜 심해진 거 같긴 해요.</td>\n",
       "      <td>정말 힘드시겠어요. 지금도 증상이 심하신가요?</td>\n",
       "      <td>[]</td>\n",
       "    </tr>\n",
       "    <tr>\n",
       "      <th>1033</th>\n",
       "      <td>현재상태/증상악화</td>\n",
       "      <td>그런데 증상이 나빠진 거 같아.</td>\n",
       "      <td>너무 심하시면 병원을 다시 가보는 건 어떨까요?</td>\n",
       "      <td>[]</td>\n",
       "    </tr>\n",
       "  </tbody>\n",
       "</table>\n",
       "<p>1034 rows × 4 columns</p>\n",
       "</div>"
      ],
      "text/plain": [
       "               구분                                                 유저  \\\n",
       "0       감정/감정조절이상    제 감정이 이상해진 것 같아요. 남편만 보면 화가 치밀어 오르고 감정 조절이 안되요.   \n",
       "1       감정/감정조절이상                           더 이상 내 감정을 내가 컨트롤 못 하겠어.   \n",
       "2       감정/감정조절이상                        하루종일 오르락내리락 롤러코스터 타는 기분이에요.   \n",
       "3     감정/감정조절이상/화  평소 다른 일을 할 때도 비슷해요. 생각한대로 안되면 화가 나고…그런 상황이 지속되...   \n",
       "4     감정/감정조절이상/화                              예전보다 화내는 게 과격해진 거 같아.   \n",
       "...           ...                                                ...   \n",
       "1029     치료이력/응급실  그 사람이 응급실 의사한테 뭐라고 속닥거리니까, 저보고 갑자기 응급처치 끝났다고, ...   \n",
       "1030     치료이력/응급실                   파편이 튀어서 그 때 저도 응급실 가서 치료 받기도 했고…   \n",
       "1031    현재상태/증상악화                     지금 상태가 너무 안 좋아서 학교 안 나가고 있어요.    \n",
       "1032    현재상태/증상악화                                   진짜 심해진 거 같긴 해요.    \n",
       "1033    현재상태/증상악화                                 그런데 증상이 나빠진 거 같아.    \n",
       "\n",
       "                                              챗봇 embedding  \n",
       "0                감정이 조절이 안 될 때만큼 힘들 때는 없는 거 같아요.        []  \n",
       "1                         저도 그 기분 이해해요. 많이 힘드시죠?        []  \n",
       "2        그럴 때는 밥은 잘 먹었는지, 잠은 잘 잤는지 체크해보는 것도 좋아요.        []  \n",
       "3     화가 폭발할 것 같을 때는 그 자리를 피하는 것도 좋은 방법이라고 생각해요.        []  \n",
       "4            정말 힘드시겠어요. 화는 남에게도 스스로에게도 상처를 주잖아요.        []  \n",
       "...                                          ...       ...  \n",
       "1029               응급실이 있어서 다행이네요. 큰 문제는 없으신 거죠?        []  \n",
       "1030     응급실에 가셨다니 정말 놀랐어요. 아무 문제 없으신가요? 걱정 되네요.        []  \n",
       "1031                    상태가 더 안 좋아지셨군요. 걱정이 되네요.        []  \n",
       "1032                   정말 힘드시겠어요. 지금도 증상이 심하신가요?        []  \n",
       "1033                  너무 심하시면 병원을 다시 가보는 건 어떨까요?        []  \n",
       "\n",
       "[1034 rows x 4 columns]"
      ]
     },
     "execution_count": 35,
     "metadata": {},
     "output_type": "execute_result"
    }
   ],
   "source": [
    "df.reset_index(drop=True, inplace=True)\n",
    "df['embedding'] = pd.Series([[]] * len(df)) "
   ]
  },
  {
   "cell_type": "code",
   "execution_count": 36,
   "metadata": {},
   "outputs": [
    {
     "data": {
      "text/html": [
       "<div>\n",
       "<style scoped>\n",
       "    .dataframe tbody tr th:only-of-type {\n",
       "        vertical-align: middle;\n",
       "    }\n",
       "\n",
       "    .dataframe tbody tr th {\n",
       "        vertical-align: top;\n",
       "    }\n",
       "\n",
       "    .dataframe thead th {\n",
       "        text-align: right;\n",
       "    }\n",
       "</style>\n",
       "<table border=\"1\" class=\"dataframe\">\n",
       "  <thead>\n",
       "    <tr style=\"text-align: right;\">\n",
       "      <th></th>\n",
       "      <th>구분</th>\n",
       "      <th>유저</th>\n",
       "      <th>챗봇</th>\n",
       "      <th>embedding</th>\n",
       "    </tr>\n",
       "  </thead>\n",
       "  <tbody>\n",
       "    <tr>\n",
       "      <th>0</th>\n",
       "      <td>감정/감정조절이상</td>\n",
       "      <td>제 감정이 이상해진 것 같아요. 남편만 보면 화가 치밀어 오르고 감정 조절이 안되요.</td>\n",
       "      <td>감정이 조절이 안 될 때만큼 힘들 때는 없는 거 같아요.</td>\n",
       "      <td>[-0.4806067, -0.2948694, 0.43790016, -0.640137...</td>\n",
       "    </tr>\n",
       "    <tr>\n",
       "      <th>1</th>\n",
       "      <td>감정/감정조절이상</td>\n",
       "      <td>더 이상 내 감정을 내가 컨트롤 못 하겠어.</td>\n",
       "      <td>저도 그 기분 이해해요. 많이 힘드시죠?</td>\n",
       "      <td>[-1.1561577, -0.14506273, 0.29490328, -0.67394...</td>\n",
       "    </tr>\n",
       "    <tr>\n",
       "      <th>2</th>\n",
       "      <td>감정/감정조절이상</td>\n",
       "      <td>하루종일 오르락내리락 롤러코스터 타는 기분이에요.</td>\n",
       "      <td>그럴 때는 밥은 잘 먹었는지, 잠은 잘 잤는지 체크해보는 것도 좋아요.</td>\n",
       "      <td>[-0.6652, -0.081268206, 1.0945569, 0.10579223,...</td>\n",
       "    </tr>\n",
       "    <tr>\n",
       "      <th>3</th>\n",
       "      <td>감정/감정조절이상/화</td>\n",
       "      <td>평소 다른 일을 할 때도 비슷해요. 생각한대로 안되면 화가 나고…그런 상황이 지속되...</td>\n",
       "      <td>화가 폭발할 것 같을 때는 그 자리를 피하는 것도 좋은 방법이라고 생각해요.</td>\n",
       "      <td>[-0.76790583, 0.46520734, 0.528507, -0.5076046...</td>\n",
       "    </tr>\n",
       "    <tr>\n",
       "      <th>4</th>\n",
       "      <td>감정/감정조절이상/화</td>\n",
       "      <td>예전보다 화내는 게 과격해진 거 같아.</td>\n",
       "      <td>정말 힘드시겠어요. 화는 남에게도 스스로에게도 상처를 주잖아요.</td>\n",
       "      <td>[-0.20277734, -0.37413916, 0.040532243, -0.862...</td>\n",
       "    </tr>\n",
       "    <tr>\n",
       "      <th>...</th>\n",
       "      <td>...</td>\n",
       "      <td>...</td>\n",
       "      <td>...</td>\n",
       "      <td>...</td>\n",
       "    </tr>\n",
       "    <tr>\n",
       "      <th>1029</th>\n",
       "      <td>치료이력/응급실</td>\n",
       "      <td>그 사람이 응급실 의사한테 뭐라고 속닥거리니까, 저보고 갑자기 응급처치 끝났다고, ...</td>\n",
       "      <td>응급실이 있어서 다행이네요. 큰 문제는 없으신 거죠?</td>\n",
       "      <td>[-0.18907855, -0.43884462, 0.39459106, -0.2362...</td>\n",
       "    </tr>\n",
       "    <tr>\n",
       "      <th>1030</th>\n",
       "      <td>치료이력/응급실</td>\n",
       "      <td>파편이 튀어서 그 때 저도 응급실 가서 치료 받기도 했고…</td>\n",
       "      <td>응급실에 가셨다니 정말 놀랐어요. 아무 문제 없으신가요? 걱정 되네요.</td>\n",
       "      <td>[-0.52514493, -0.46516106, -0.26985395, -0.350...</td>\n",
       "    </tr>\n",
       "    <tr>\n",
       "      <th>1031</th>\n",
       "      <td>현재상태/증상악화</td>\n",
       "      <td>지금 상태가 너무 안 좋아서 학교 안 나가고 있어요.</td>\n",
       "      <td>상태가 더 안 좋아지셨군요. 걱정이 되네요.</td>\n",
       "      <td>[-0.68146825, -0.11450252, 0.038396798, -0.286...</td>\n",
       "    </tr>\n",
       "    <tr>\n",
       "      <th>1032</th>\n",
       "      <td>현재상태/증상악화</td>\n",
       "      <td>진짜 심해진 거 같긴 해요.</td>\n",
       "      <td>정말 힘드시겠어요. 지금도 증상이 심하신가요?</td>\n",
       "      <td>[-0.18132955, -0.10980928, -0.21448651, -0.443...</td>\n",
       "    </tr>\n",
       "    <tr>\n",
       "      <th>1033</th>\n",
       "      <td>현재상태/증상악화</td>\n",
       "      <td>그런데 증상이 나빠진 거 같아.</td>\n",
       "      <td>너무 심하시면 병원을 다시 가보는 건 어떨까요?</td>\n",
       "      <td>[-0.53017086, -0.15990542, 0.49804133, -0.0031...</td>\n",
       "    </tr>\n",
       "  </tbody>\n",
       "</table>\n",
       "<p>1034 rows × 4 columns</p>\n",
       "</div>"
      ],
      "text/plain": [
       "               구분                                                 유저  \\\n",
       "0       감정/감정조절이상    제 감정이 이상해진 것 같아요. 남편만 보면 화가 치밀어 오르고 감정 조절이 안되요.   \n",
       "1       감정/감정조절이상                           더 이상 내 감정을 내가 컨트롤 못 하겠어.   \n",
       "2       감정/감정조절이상                        하루종일 오르락내리락 롤러코스터 타는 기분이에요.   \n",
       "3     감정/감정조절이상/화  평소 다른 일을 할 때도 비슷해요. 생각한대로 안되면 화가 나고…그런 상황이 지속되...   \n",
       "4     감정/감정조절이상/화                              예전보다 화내는 게 과격해진 거 같아.   \n",
       "...           ...                                                ...   \n",
       "1029     치료이력/응급실  그 사람이 응급실 의사한테 뭐라고 속닥거리니까, 저보고 갑자기 응급처치 끝났다고, ...   \n",
       "1030     치료이력/응급실                   파편이 튀어서 그 때 저도 응급실 가서 치료 받기도 했고…   \n",
       "1031    현재상태/증상악화                     지금 상태가 너무 안 좋아서 학교 안 나가고 있어요.    \n",
       "1032    현재상태/증상악화                                   진짜 심해진 거 같긴 해요.    \n",
       "1033    현재상태/증상악화                                 그런데 증상이 나빠진 거 같아.    \n",
       "\n",
       "                                              챗봇  \\\n",
       "0                감정이 조절이 안 될 때만큼 힘들 때는 없는 거 같아요.   \n",
       "1                         저도 그 기분 이해해요. 많이 힘드시죠?   \n",
       "2        그럴 때는 밥은 잘 먹었는지, 잠은 잘 잤는지 체크해보는 것도 좋아요.   \n",
       "3     화가 폭발할 것 같을 때는 그 자리를 피하는 것도 좋은 방법이라고 생각해요.   \n",
       "4            정말 힘드시겠어요. 화는 남에게도 스스로에게도 상처를 주잖아요.   \n",
       "...                                          ...   \n",
       "1029               응급실이 있어서 다행이네요. 큰 문제는 없으신 거죠?   \n",
       "1030     응급실에 가셨다니 정말 놀랐어요. 아무 문제 없으신가요? 걱정 되네요.   \n",
       "1031                    상태가 더 안 좋아지셨군요. 걱정이 되네요.   \n",
       "1032                   정말 힘드시겠어요. 지금도 증상이 심하신가요?   \n",
       "1033                  너무 심하시면 병원을 다시 가보는 건 어떨까요?   \n",
       "\n",
       "                                              embedding  \n",
       "0     [-0.4806067, -0.2948694, 0.43790016, -0.640137...  \n",
       "1     [-1.1561577, -0.14506273, 0.29490328, -0.67394...  \n",
       "2     [-0.6652, -0.081268206, 1.0945569, 0.10579223,...  \n",
       "3     [-0.76790583, 0.46520734, 0.528507, -0.5076046...  \n",
       "4     [-0.20277734, -0.37413916, 0.040532243, -0.862...  \n",
       "...                                                 ...  \n",
       "1029  [-0.18907855, -0.43884462, 0.39459106, -0.2362...  \n",
       "1030  [-0.52514493, -0.46516106, -0.26985395, -0.350...  \n",
       "1031  [-0.68146825, -0.11450252, 0.038396798, -0.286...  \n",
       "1032  [-0.18132955, -0.10980928, -0.21448651, -0.443...  \n",
       "1033  [-0.53017086, -0.15990542, 0.49804133, -0.0031...  \n",
       "\n",
       "[1034 rows x 4 columns]"
      ]
     },
     "execution_count": 36,
     "metadata": {},
     "output_type": "execute_result"
    }
   ],
   "source": [
    "df['embedding'] = df['유저'].map(lambda x: list(model.encode(x)))\n",
    "df"
   ]
  },
  {
   "cell_type": "code",
   "execution_count": 40,
   "metadata": {},
   "outputs": [],
   "source": [
    "df.to_csv('./data/chat_bot/dataset.csv', index=False)"
   ]
  },
  {
   "cell_type": "code",
   "execution_count": 64,
   "metadata": {},
   "outputs": [
    {
     "data": {
      "text/plain": [
       "'으으, 머리가 아프면 정말 힘들죠. 그 마음 정말 이해해요.'"
      ]
     },
     "execution_count": 64,
     "metadata": {},
     "output_type": "execute_result"
    }
   ],
   "source": [
    "text = '요즘 머리가 아프고 너무 힘들어'\n",
    "em = model.encode(text)\n",
    "df['cosine'] = df['embedding'].map(lambda x: cosine_similarity([em], [x])) #.squeeze()\n",
    "answer = df.loc[df['cosine'].values.reshape(-1, 1).argmax()]\n",
    "answer['챗봇']"
   ]
  },
  {
   "cell_type": "code",
   "execution_count": 68,
   "metadata": {},
   "outputs": [
    {
     "data": {
      "text/plain": [
       "'정도가 심하다면, 의사와 상담을 하는 것도 좋은 방법이에요.'"
      ]
     },
     "execution_count": 68,
     "metadata": {},
     "output_type": "execute_result"
    }
   ],
   "source": [
    "text = input('>>')\n",
    "em = model.encode(text)\n",
    "df['cosine'] = df['embedding'].map(lambda x: cosine_similarity([em], [x]))\n",
    "answer = df.loc[df['cosine'].values.reshape(-1, 1).argmax()]\n",
    "answer['챗봇']"
   ]
  },
  {
   "cell_type": "code",
   "execution_count": null,
   "metadata": {},
   "outputs": [],
   "source": []
  },
  {
   "cell_type": "code",
   "execution_count": null,
   "metadata": {},
   "outputs": [],
   "source": []
  }
 ],
 "metadata": {
  "kernelspec": {
   "display_name": "Python 3.8.0 ('HRD')",
   "language": "python",
   "name": "python3"
  },
  "language_info": {
   "codemirror_mode": {
    "name": "ipython",
    "version": 3
   },
   "file_extension": ".py",
   "mimetype": "text/x-python",
   "name": "python",
   "nbconvert_exporter": "python",
   "pygments_lexer": "ipython3",
   "version": "3.8.0"
  },
  "orig_nbformat": 4,
  "vscode": {
   "interpreter": {
    "hash": "181e3df9e13de62506545d086bbebda856de817f2992da68be102c0ac9881710"
   }
  }
 },
 "nbformat": 4,
 "nbformat_minor": 2
}
