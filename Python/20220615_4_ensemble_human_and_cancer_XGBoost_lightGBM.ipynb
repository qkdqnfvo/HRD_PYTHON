{
 "cells": [
  {
   "cell_type": "code",
   "execution_count": 18,
   "metadata": {},
   "outputs": [],
   "source": [
    "from sklearn.ensemble import RandomForestClassifier\n",
    "from sklearn.metrics import accuracy_score, confusion_matrix, precision_score, recall_score, f1_score, roc_auc_score\n",
    "from sklearn.model_selection import GridSearchCV\n",
    "from sklearn.ensemble import GradientBoostingClassifier\n",
    "from sklearn.datasets import load_breast_cancer\n",
    "from sklearn.model_selection import train_test_split\n",
    "from xgboost import XGBClassifier, plot_importance\n",
    "\n",
    "from lightgbm import LGBMClassifier, plot_importance\n",
    "from hyperopt import hp\n",
    "from hyperopt import STATUS_OK\n",
    "from hyperopt import fmin, tpe, Trials\n",
    "from sklearn.model_selection import cross_val_score\n",
    "import lightgbm\n",
    "import matplotlib.pyplot as plt\n",
    "import xgboost as xgb\n",
    "import seaborn as sns\n",
    "import pandas as pd\n",
    "import numpy as np\n",
    "import time"
   ]
  },
  {
   "cell_type": "code",
   "execution_count": 7,
   "metadata": {},
   "outputs": [],
   "source": [
    "def get_clf_eval(Y_test, pred, pred_proba=None):\n",
    "    confusion = confusion_matrix(Y_test, pred)\n",
    "    acc = accuracy_score(Y_test, pred)\n",
    "    precision = precision_score(Y_test, pred)\n",
    "    recall = recall_score(Y_test, pred)\n",
    "    f1 = f1_score(Y_test, pred)\n",
    "    roc_auc = roc_auc_score(Y_test, pred_proba)\n",
    "    print('Confusion matrix')\n",
    "    print(confusion)\n",
    "    print('acc: {:.4f}, precision: {:.4f}, recall: {:.4f}, F1: {:.4f}, roc_auc: {:.4f}'.format(acc, precision, recall, f1, roc_auc))\n",
    "    # print(f'acc: {acc:.4f}, precision: {precision:.4f}, recall: {recall:.4f}, F1: {f1:.4f}')\n",
    "\n",
    "def get_new_feature_name_df(old_feature_name_df):\n",
    "    feature_dup_df = pd.DataFrame(data=old_feature_name_df.groupby('column_name').cumcount(),\n",
    "        columns=['dup_cnt'])\n",
    "    feature_dup_df.reset_index(inplace=True)\n",
    "    new_feature_name_df = pd.merge(old_feature_name_df.reset_index(), feature_dup_df, how='outer')\n",
    "    new_feature_name_df['column_name'] = new_feature_name_df[['column_name', 'dup_cnt']].apply(lambda x: x[0] + '_' + str(x[1]) if x[1] > 0 else x[0], axis=1)\n",
    "    new_feature_name_df = new_feature_name_df.drop(['index'], axis=1)\n",
    "    return new_feature_name_df\n",
    "\n",
    "def get_human_dataset():\n",
    "    feature_name_df = pd.read_csv('./human_activity/features.txt', sep='\\s+', header=None, names=['column_index', 'column_name'])\n",
    "    new_feature_name_df = get_new_feature_name_df(feature_name_df)\n",
    "    feature_name = new_feature_name_df.iloc[:, 1].values.tolist()\n",
    "    X_train = pd.read_csv('./human_activity/train/X_train.txt', sep='\\s+', names=feature_name)\n",
    "    X_test = pd.read_csv('./human_activity/test/X_test.txt', sep='\\s+', names=feature_name)\n",
    "\n",
    "    Y_train = pd.read_csv('./human_activity/train/Y_train.txt', sep='\\s+', header=None, names=['action'])\n",
    "    Y_test = pd.read_csv('./human_activity/test/Y_test.txt', sep='\\s+', header=None, names=['action'])\n",
    "    return X_train, X_test, Y_train, Y_test\n"
   ]
  },
  {
   "cell_type": "code",
   "execution_count": 6,
   "metadata": {},
   "outputs": [],
   "source": [
    "X_train, X_test, Y_train, Y_test = get_human_dataset()"
   ]
  },
  {
   "cell_type": "code",
   "execution_count": 8,
   "metadata": {},
   "outputs": [
    {
     "name": "stderr",
     "output_type": "stream",
     "text": [
      "C:\\Users\\test\\AppData\\Local\\Temp\\ipykernel_4784\\595365637.py:2: DataConversionWarning: A column-vector y was passed when a 1d array was expected. Please change the shape of y to (n_samples,), for example using ravel().\n",
      "  rf_clf.fit(X_train, Y_train)\n"
     ]
    },
    {
     "name": "stdout",
     "output_type": "stream",
     "text": [
      "0.9195792331184255\n"
     ]
    }
   ],
   "source": [
    "rf_clf = RandomForestClassifier(random_state=0, max_depth=8)\n",
    "rf_clf.fit(X_train, Y_train)\n",
    "pred = rf_clf.predict(X_test)\n",
    "print(accuracy_score(Y_test, pred))"
   ]
  },
  {
   "cell_type": "code",
   "execution_count": 15,
   "metadata": {},
   "outputs": [
    {
     "name": "stderr",
     "output_type": "stream",
     "text": [
      "c:\\Users\\test\\.conda\\envs\\HRD\\lib\\site-packages\\sklearn\\model_selection\\_validation.py:372: FitFailedWarning: \n",
      "18 fits failed out of a total of 54.\n",
      "The score on these train-test partitions for these parameters will be set to nan.\n",
      "If these failures are not expected, you can try to debug them by setting error_score='raise'.\n",
      "\n",
      "Below are more details about the failures:\n",
      "--------------------------------------------------------------------------------\n",
      "18 fits failed with the following error:\n",
      "Traceback (most recent call last):\n",
      "  File \"c:\\Users\\test\\.conda\\envs\\HRD\\lib\\site-packages\\sklearn\\model_selection\\_validation.py\", line 680, in _fit_and_score\n",
      "    estimator.fit(X_train, y_train, **fit_params)\n",
      "  File \"c:\\Users\\test\\.conda\\envs\\HRD\\lib\\site-packages\\sklearn\\ensemble\\_forest.py\", line 450, in fit\n",
      "    trees = Parallel(\n",
      "  File \"c:\\Users\\test\\.conda\\envs\\HRD\\lib\\site-packages\\joblib\\parallel.py\", line 1056, in __call__\n",
      "    self.retrieve()\n",
      "  File \"c:\\Users\\test\\.conda\\envs\\HRD\\lib\\site-packages\\joblib\\parallel.py\", line 935, in retrieve\n",
      "    self._output.extend(job.get(timeout=self.timeout))\n",
      "  File \"c:\\Users\\test\\.conda\\envs\\HRD\\lib\\multiprocessing\\pool.py\", line 768, in get\n",
      "    raise self._value\n",
      "  File \"c:\\Users\\test\\.conda\\envs\\HRD\\lib\\multiprocessing\\pool.py\", line 125, in worker\n",
      "    result = (True, func(*args, **kwds))\n",
      "  File \"c:\\Users\\test\\.conda\\envs\\HRD\\lib\\site-packages\\joblib\\_parallel_backends.py\", line 595, in __call__\n",
      "    return self.func(*args, **kwargs)\n",
      "  File \"c:\\Users\\test\\.conda\\envs\\HRD\\lib\\site-packages\\joblib\\parallel.py\", line 262, in __call__\n",
      "    return [func(*args, **kwargs)\n",
      "  File \"c:\\Users\\test\\.conda\\envs\\HRD\\lib\\site-packages\\joblib\\parallel.py\", line 262, in <listcomp>\n",
      "    return [func(*args, **kwargs)\n",
      "  File \"c:\\Users\\test\\.conda\\envs\\HRD\\lib\\site-packages\\sklearn\\utils\\fixes.py\", line 216, in __call__\n",
      "    return self.function(*args, **kwargs)\n",
      "  File \"c:\\Users\\test\\.conda\\envs\\HRD\\lib\\site-packages\\sklearn\\ensemble\\_forest.py\", line 185, in _parallel_build_trees\n",
      "    tree.fit(X, y, sample_weight=curr_sample_weight, check_input=False)\n",
      "  File \"c:\\Users\\test\\.conda\\envs\\HRD\\lib\\site-packages\\sklearn\\tree\\_classes.py\", line 937, in fit\n",
      "    super().fit(\n",
      "  File \"c:\\Users\\test\\.conda\\envs\\HRD\\lib\\site-packages\\sklearn\\tree\\_classes.py\", line 250, in fit\n",
      "    raise ValueError(\n",
      "ValueError: min_samples_split must be an integer greater than 1 or a float in (0.0, 1.0]; got the integer 1\n",
      "\n",
      "  warnings.warn(some_fits_failed_message, FitFailedWarning)\n",
      "c:\\Users\\test\\.conda\\envs\\HRD\\lib\\site-packages\\sklearn\\model_selection\\_search.py:969: UserWarning: One or more of the test scores are non-finite: [       nan 0.9077802  0.90764418        nan 0.91430903 0.91430903\n",
      "        nan 0.91362894 0.91362894        nan 0.90968444 0.90682807\n",
      "        nan 0.91784548 0.91784548        nan 0.91498912 0.91498912\n",
      "        nan 0.90737214 0.90587595        nan 0.91784548 0.91784548\n",
      "        nan 0.91498912 0.91498912]\n",
      "  warnings.warn(\n",
      "c:\\Users\\test\\.conda\\envs\\HRD\\lib\\site-packages\\sklearn\\model_selection\\_search.py:926: DataConversionWarning: A column-vector y was passed when a 1d array was expected. Please change the shape of y to (n_samples,), for example using ravel().\n",
      "  self.best_estimator_.fit(X, y, **fit_params)\n"
     ]
    },
    {
     "name": "stdout",
     "output_type": "stream",
     "text": [
      "{'max_depth': 16, 'min_samples_leaf': 8, 'min_samples_split': 6}\n",
      "0.9178454842219804\n",
      "CPU times: total: 9.02 s\n",
      "Wall time: 25.2 s\n"
     ]
    }
   ],
   "source": [
    "%%time\n",
    "params = {\n",
    "    'max_depth':[8, 16, 24],\n",
    "    'min_samples_split': [1, 6, 12],\n",
    "    'min_samples_leaf': [2, 8, 16]\n",
    "}\n",
    "rf_clf = RandomForestClassifier(n_estimators=100, random_state=0, n_jobs=-1)\n",
    "grid_cv = GridSearchCV(rf_clf, param_grid=params, cv=2, n_jobs=-1)\n",
    "grid_cv.fit(X_train, Y_train)\n",
    "print(grid_cv.best_params_)\n",
    "print(grid_cv.best_score_)"
   ]
  },
  {
   "cell_type": "code",
   "execution_count": 17,
   "metadata": {},
   "outputs": [
    {
     "name": "stderr",
     "output_type": "stream",
     "text": [
      "<timed exec>:7: DataConversionWarning: A column-vector y was passed when a 1d array was expected. Please change the shape of y to (n_samples,), for example using ravel().\n"
     ]
    },
    {
     "name": "stdout",
     "output_type": "stream",
     "text": [
      "0.9222938581608415\n",
      "CPU times: total: 7.98 s\n",
      "Wall time: 1.79 s\n"
     ]
    }
   ],
   "source": [
    "%%time\n",
    "params = {\n",
    "    'max_depth':[8, 16, 24],\n",
    "    'min_samples_split': [1, 6, 12],\n",
    "    'min_samples_leaf': [2, 8, 16]\n",
    "}\n",
    "rf_clf = RandomForestClassifier(n_estimators=100, random_state=0, n_jobs=-1, min_samples_leaf=8, max_depth=16, min_samples_split=6)\n",
    "rf_clf.fit(X_train, Y_train)\n",
    "pred = rf_clf.predict(X_test)\n",
    "print(accuracy_score(Y_test, pred))"
   ]
  },
  {
   "cell_type": "code",
   "execution_count": 18,
   "metadata": {},
   "outputs": [
    {
     "name": "stderr",
     "output_type": "stream",
     "text": [
      "<timed exec>:7: DataConversionWarning: A column-vector y was passed when a 1d array was expected. Please change the shape of y to (n_samples,), for example using ravel().\n"
     ]
    },
    {
     "name": "stdout",
     "output_type": "stream",
     "text": [
      "0.9189005768578216\n",
      "CPU times: total: 23.9 s\n",
      "Wall time: 4.57 s\n"
     ]
    }
   ],
   "source": [
    "%%time\n",
    "params = {\n",
    "    'max_depth':[8, 16, 24],\n",
    "    'min_samples_split': [1, 6, 12],\n",
    "    'min_samples_leaf': [2, 8, 16]\n",
    "}\n",
    "rf_clf = RandomForestClassifier(n_estimators=300, random_state=0, n_jobs=-1, min_samples_leaf=8, max_depth=16, min_samples_split=6)\n",
    "rf_clf.fit(X_train, Y_train)\n",
    "pred = rf_clf.predict(X_test)\n",
    "print(accuracy_score(Y_test, pred))"
   ]
  },
  {
   "cell_type": "code",
   "execution_count": 19,
   "metadata": {},
   "outputs": [
    {
     "name": "stderr",
     "output_type": "stream",
     "text": [
      "<timed exec>:7: DataConversionWarning: A column-vector y was passed when a 1d array was expected. Please change the shape of y to (n_samples,), for example using ravel().\n"
     ]
    },
    {
     "name": "stdout",
     "output_type": "stream",
     "text": [
      "0.9222938581608415\n",
      "CPU times: total: 1min 22s\n",
      "Wall time: 15.5 s\n"
     ]
    }
   ],
   "source": [
    "%%time\n",
    "params = {\n",
    "    'max_depth':[8, 16, 24],\n",
    "    'min_samples_split': [1, 6, 12],\n",
    "    'min_samples_leaf': [2, 8, 16]\n",
    "}\n",
    "rf_clf = RandomForestClassifier(n_estimators=1000, random_state=0, n_jobs=-1, min_samples_leaf=8, max_depth=16, min_samples_split=6)\n",
    "rf_clf.fit(X_train, Y_train)\n",
    "pred = rf_clf.predict(X_test)\n",
    "print(accuracy_score(Y_test, pred))"
   ]
  },
  {
   "cell_type": "code",
   "execution_count": 27,
   "metadata": {},
   "outputs": [],
   "source": [
    "top20 = pd.Series(rf_clf.feature_importances_, index=X_train.columns).sort_values(ascending=False)[:20]"
   ]
  },
  {
   "cell_type": "code",
   "execution_count": 29,
   "metadata": {},
   "outputs": [
    {
     "data": {
      "text/plain": [
       "<AxesSubplot:>"
      ]
     },
     "execution_count": 29,
     "metadata": {},
     "output_type": "execute_result"
    },
    {
     "data": {
      "image/png": "[encoded data removed]",
      "text/plain": [
       "<Figure size 576x432 with 1 Axes>"
      ]
     },
     "metadata": {
      "needs_background": "light"
     },
     "output_type": "display_data"
    }
   ],
   "source": [
    "plt.figure(figsize=(8, 6))\n",
    "sns.barplot(x=top20, y=top20.index)"
   ]
  },
  {
   "cell_type": "code",
   "execution_count": 35,
   "metadata": {},
   "outputs": [
    {
     "name": "stderr",
     "output_type": "stream",
     "text": [
      "c:\\Users\\test\\.conda\\envs\\HRD\\lib\\site-packages\\sklearn\\ensemble\\_gb.py:494: DataConversionWarning: A column-vector y was passed when a 1d array was expected. Please change the shape of y to (n_samples, ), for example using ravel().\n",
      "  y = column_or_1d(y, warn=True)\n"
     ]
    },
    {
     "name": "stdout",
     "output_type": "stream",
     "text": [
      "0.9389209365456397\n",
      "589.0330054759979\n",
      "CPU times: total: 9min 49s\n",
      "Wall time: 9min 52s\n"
     ]
    }
   ],
   "source": [
    "%%time\n",
    "X_train, X_test, Y_train, Y_test = get_human_dataset()\n",
    "start = time.time()\n",
    "\n",
    "gb_clf = GradientBoostingClassifier(random_state=0)\n",
    "gb_clf.fit(X_train, Y_train)\n",
    "pred = gb_clf.predict(X_test)\n",
    "print(accuracy_score(Y_test, pred))\n",
    "\n",
    "\n",
    "\n",
    "end = time.time()\n",
    "print(end - start)"
   ]
  },
  {
   "cell_type": "code",
   "execution_count": 2,
   "metadata": {},
   "outputs": [],
   "source": [
    "##########################################################"
   ]
  },
  {
   "cell_type": "code",
   "execution_count": 6,
   "metadata": {},
   "outputs": [
    {
     "name": "stdout",
     "output_type": "stream",
     "text": [
      "<class 'pandas.core.frame.DataFrame'>\n",
      "RangeIndex: 569 entries, 0 to 568\n",
      "Data columns (total 31 columns):\n",
      " #   Column                   Non-Null Count  Dtype  \n",
      "---  ------                   --------------  -----  \n",
      " 0   mean radius              569 non-null    float64\n",
      " 1   mean texture             569 non-null    float64\n",
      " 2   mean perimeter           569 non-null    float64\n",
      " 3   mean area                569 non-null    float64\n",
      " 4   mean smoothness          569 non-null    float64\n",
      " 5   mean compactness         569 non-null    float64\n",
      " 6   mean concavity           569 non-null    float64\n",
      " 7   mean concave points      569 non-null    float64\n",
      " 8   mean symmetry            569 non-null    float64\n",
      " 9   mean fractal dimension   569 non-null    float64\n",
      " 10  radius error             569 non-null    float64\n",
      " 11  texture error            569 non-null    float64\n",
      " 12  perimeter error          569 non-null    float64\n",
      " 13  area error               569 non-null    float64\n",
      " 14  smoothness error         569 non-null    float64\n",
      " 15  compactness error        569 non-null    float64\n",
      " 16  concavity error          569 non-null    float64\n",
      " 17  concave points error     569 non-null    float64\n",
      " 18  symmetry error           569 non-null    float64\n",
      " 19  fractal dimension error  569 non-null    float64\n",
      " 20  worst radius             569 non-null    float64\n",
      " 21  worst texture            569 non-null    float64\n",
      " 22  worst perimeter          569 non-null    float64\n",
      " 23  worst area               569 non-null    float64\n",
      " 24  worst smoothness         569 non-null    float64\n",
      " 25  worst compactness        569 non-null    float64\n",
      " 26  worst concavity          569 non-null    float64\n",
      " 27  worst concave points     569 non-null    float64\n",
      " 28  worst symmetry           569 non-null    float64\n",
      " 29  worst fractal dimension  569 non-null    float64\n",
      " 30  target                   569 non-null    int32  \n",
      "dtypes: float64(30), int32(1)\n",
      "memory usage: 135.7 KB\n"
     ]
    }
   ],
   "source": [
    "dataset = load_breast_cancer()\n",
    "cancer_df = pd.DataFrame(data=dataset.data, columns=dataset.feature_names)\n",
    "cancer_df['target'] = dataset.target\n",
    "cancer_df.info()"
   ]
  },
  {
   "cell_type": "code",
   "execution_count": 11,
   "metadata": {},
   "outputs": [],
   "source": [
    "X_train, X_test, Y_train, Y_test = train_test_split(dataset.data, dataset.target, test_size=0.2, random_state=156)\n",
    "X_tr, X_val, Y_tr, Y_val = train_test_split(X_train, Y_train, test_size=0.1, random_state=156)"
   ]
  },
  {
   "cell_type": "code",
   "execution_count": 16,
   "metadata": {},
   "outputs": [],
   "source": [
    "dtr = xgb.DMatrix(data=X_tr, label=Y_tr)\n",
    "dval = xgb.DMatrix(data=X_val, label=Y_val)\n",
    "dtest = xgb.DMatrix(data=X_test, label=Y_test)"
   ]
  },
  {
   "cell_type": "code",
   "execution_count": 17,
   "metadata": {},
   "outputs": [],
   "source": [
    "params = {\n",
    "    'max_depth': 3,\n",
    "    'objective': 'binary:logistic',\n",
    "    'eval_metric': 'logloss'\n",
    "}\n",
    "num_round = 400"
   ]
  },
  {
   "cell_type": "code",
   "execution_count": 18,
   "metadata": {},
   "outputs": [
    {
     "name": "stdout",
     "output_type": "stream",
     "text": [
      "[0]\ttrain-logloss:0.46675\teval-logloss:0.53228\n",
      "[1]\ttrain-logloss:0.33646\teval-logloss:0.45357\n",
      "[2]\ttrain-logloss:0.24920\teval-logloss:0.39144\n",
      "[3]\ttrain-logloss:0.19143\teval-logloss:0.34799\n",
      "[4]\ttrain-logloss:0.15009\teval-logloss:0.31363\n",
      "[5]\ttrain-logloss:0.11959\teval-logloss:0.29787\n",
      "[6]\ttrain-logloss:0.09783\teval-logloss:0.28493\n",
      "[7]\ttrain-logloss:0.08144\teval-logloss:0.27381\n",
      "[8]\ttrain-logloss:0.06913\teval-logloss:0.26692\n",
      "[9]\ttrain-logloss:0.05994\teval-logloss:0.26585\n",
      "[10]\ttrain-logloss:0.05284\teval-logloss:0.26670\n",
      "[11]\ttrain-logloss:0.04622\teval-logloss:0.26861\n",
      "[12]\ttrain-logloss:0.04081\teval-logloss:0.26767\n",
      "[13]\ttrain-logloss:0.03590\teval-logloss:0.27313\n",
      "[14]\ttrain-logloss:0.03233\teval-logloss:0.28080\n",
      "[15]\ttrain-logloss:0.02958\teval-logloss:0.27402\n",
      "[16]\ttrain-logloss:0.02692\teval-logloss:0.27108\n",
      "[17]\ttrain-logloss:0.02475\teval-logloss:0.27472\n",
      "[18]\ttrain-logloss:0.02259\teval-logloss:0.27689\n",
      "[19]\ttrain-logloss:0.02081\teval-logloss:0.28267\n",
      "[20]\ttrain-logloss:0.01928\teval-logloss:0.27917\n",
      "[21]\ttrain-logloss:0.01784\teval-logloss:0.27757\n",
      "[22]\ttrain-logloss:0.01663\teval-logloss:0.27484\n",
      "[23]\ttrain-logloss:0.01589\teval-logloss:0.27584\n",
      "[24]\ttrain-logloss:0.01505\teval-logloss:0.27657\n",
      "[25]\ttrain-logloss:0.01432\teval-logloss:0.27548\n",
      "[26]\ttrain-logloss:0.01362\teval-logloss:0.27373\n",
      "[27]\ttrain-logloss:0.01318\teval-logloss:0.27061\n",
      "[28]\ttrain-logloss:0.01244\teval-logloss:0.27599\n",
      "[29]\ttrain-logloss:0.01191\teval-logloss:0.26938\n",
      "[30]\ttrain-logloss:0.01145\teval-logloss:0.26996\n",
      "[31]\ttrain-logloss:0.01104\teval-logloss:0.26809\n",
      "[32]\ttrain-logloss:0.01069\teval-logloss:0.26862\n",
      "[33]\ttrain-logloss:0.01037\teval-logloss:0.26963\n",
      "[34]\ttrain-logloss:0.01009\teval-logloss:0.26807\n",
      "[35]\ttrain-logloss:0.00996\teval-logloss:0.26640\n",
      "[36]\ttrain-logloss:0.00970\teval-logloss:0.26616\n",
      "[37]\ttrain-logloss:0.00950\teval-logloss:0.26733\n",
      "[38]\ttrain-logloss:0.00931\teval-logloss:0.26304\n",
      "[39]\ttrain-logloss:0.00921\teval-logloss:0.26312\n",
      "[40]\ttrain-logloss:0.00905\teval-logloss:0.26460\n",
      "[41]\ttrain-logloss:0.00896\teval-logloss:0.26361\n",
      "[42]\ttrain-logloss:0.00886\teval-logloss:0.26207\n",
      "[43]\ttrain-logloss:0.00877\teval-logloss:0.26514\n",
      "[44]\ttrain-logloss:0.00869\teval-logloss:0.26352\n",
      "[45]\ttrain-logloss:0.00843\teval-logloss:0.25865\n",
      "[46]\ttrain-logloss:0.00835\teval-logloss:0.25878\n",
      "[47]\ttrain-logloss:0.00827\teval-logloss:0.26014\n",
      "[48]\ttrain-logloss:0.00819\teval-logloss:0.25977\n",
      "[49]\ttrain-logloss:0.00812\teval-logloss:0.26336\n",
      "[50]\ttrain-logloss:0.00805\teval-logloss:0.25977\n",
      "[51]\ttrain-logloss:0.00798\teval-logloss:0.25979\n",
      "[52]\ttrain-logloss:0.00791\teval-logloss:0.26269\n",
      "[53]\ttrain-logloss:0.00784\teval-logloss:0.26183\n",
      "[54]\ttrain-logloss:0.00778\teval-logloss:0.26060\n",
      "[55]\ttrain-logloss:0.00772\teval-logloss:0.26334\n",
      "[56]\ttrain-logloss:0.00766\teval-logloss:0.26274\n",
      "[57]\ttrain-logloss:0.00760\teval-logloss:0.26369\n",
      "[58]\ttrain-logloss:0.00753\teval-logloss:0.26021\n",
      "[59]\ttrain-logloss:0.00748\teval-logloss:0.26071\n",
      "[60]\ttrain-logloss:0.00743\teval-logloss:0.25938\n",
      "[61]\ttrain-logloss:0.00738\teval-logloss:0.25939\n",
      "[62]\ttrain-logloss:0.00733\teval-logloss:0.26243\n",
      "[63]\ttrain-logloss:0.00728\teval-logloss:0.25931\n",
      "[64]\ttrain-logloss:0.00722\teval-logloss:0.26030\n",
      "[65]\ttrain-logloss:0.00717\teval-logloss:0.25756\n",
      "[66]\ttrain-logloss:0.00713\teval-logloss:0.25472\n",
      "[67]\ttrain-logloss:0.00708\teval-logloss:0.25480\n",
      "[68]\ttrain-logloss:0.00704\teval-logloss:0.25765\n",
      "[69]\ttrain-logloss:0.00700\teval-logloss:0.25719\n",
      "[70]\ttrain-logloss:0.00696\teval-logloss:0.25651\n",
      "[71]\ttrain-logloss:0.00692\teval-logloss:0.25887\n",
      "[72]\ttrain-logloss:0.00688\teval-logloss:0.25658\n",
      "[73]\ttrain-logloss:0.00684\teval-logloss:0.25924\n",
      "[74]\ttrain-logloss:0.00681\teval-logloss:0.25877\n",
      "[75]\ttrain-logloss:0.00677\teval-logloss:0.25784\n",
      "[76]\ttrain-logloss:0.00674\teval-logloss:0.25720\n",
      "[77]\ttrain-logloss:0.00670\teval-logloss:0.25985\n",
      "[78]\ttrain-logloss:0.00667\teval-logloss:0.26097\n",
      "[79]\ttrain-logloss:0.00664\teval-logloss:0.26103\n",
      "[80]\ttrain-logloss:0.00661\teval-logloss:0.26060\n",
      "[81]\ttrain-logloss:0.00658\teval-logloss:0.25847\n",
      "[82]\ttrain-logloss:0.00655\teval-logloss:0.26086\n",
      "[83]\ttrain-logloss:0.00652\teval-logloss:0.26092\n",
      "[84]\ttrain-logloss:0.00649\teval-logloss:0.26008\n",
      "[85]\ttrain-logloss:0.00646\teval-logloss:0.25948\n",
      "[86]\ttrain-logloss:0.00643\teval-logloss:0.26059\n",
      "[87]\ttrain-logloss:0.00641\teval-logloss:0.26024\n",
      "[88]\ttrain-logloss:0.00638\teval-logloss:0.26030\n",
      "[89]\ttrain-logloss:0.00635\teval-logloss:0.25824\n",
      "[90]\ttrain-logloss:0.00633\teval-logloss:0.26049\n",
      "[91]\ttrain-logloss:0.00630\teval-logloss:0.26005\n",
      "[92]\ttrain-logloss:0.00628\teval-logloss:0.26221\n",
      "[93]\ttrain-logloss:0.00626\teval-logloss:0.26167\n",
      "[94]\ttrain-logloss:0.00623\teval-logloss:0.26086\n",
      "[95]\ttrain-logloss:0.00621\teval-logloss:0.26094\n",
      "[96]\ttrain-logloss:0.00619\teval-logloss:0.26058\n",
      "[97]\ttrain-logloss:0.00616\teval-logloss:0.25878\n",
      "[98]\ttrain-logloss:0.00614\teval-logloss:0.25888\n",
      "[99]\ttrain-logloss:0.00612\teval-logloss:0.25986\n",
      "[100]\ttrain-logloss:0.00610\teval-logloss:0.25909\n",
      "[101]\ttrain-logloss:0.00607\teval-logloss:0.25860\n",
      "[102]\ttrain-logloss:0.00605\teval-logloss:0.26065\n",
      "[103]\ttrain-logloss:0.00604\teval-logloss:0.26076\n",
      "[104]\ttrain-logloss:0.00601\teval-logloss:0.26042\n",
      "[105]\ttrain-logloss:0.00600\teval-logloss:0.25971\n",
      "[106]\ttrain-logloss:0.00598\teval-logloss:0.25982\n",
      "[107]\ttrain-logloss:0.00596\teval-logloss:0.25913\n",
      "[108]\ttrain-logloss:0.00594\teval-logloss:0.26008\n",
      "[109]\ttrain-logloss:0.00592\teval-logloss:0.25962\n",
      "[110]\ttrain-logloss:0.00590\teval-logloss:0.26157\n",
      "[111]\ttrain-logloss:0.00588\teval-logloss:0.25992\n",
      "[112]\ttrain-logloss:0.00587\teval-logloss:0.26005\n",
      "[113]\ttrain-logloss:0.00585\teval-logloss:0.25967\n",
      "[114]\ttrain-logloss:0.00583\teval-logloss:0.26059\n",
      "[115]\ttrain-logloss:0.00581\teval-logloss:0.25890\n",
      "[116]\ttrain-logloss:0.00580\teval-logloss:0.25901\n"
     ]
    }
   ],
   "source": [
    "eval_list = [\n",
    "    (dtr, 'train'),\n",
    "    (dval, 'eval')\n",
    "]\n",
    "xgb_model = xgb.train(params=params, dtrain=dtr, num_boost_round=num_round, early_stopping_rounds=50, evals=eval_list)"
   ]
  },
  {
   "cell_type": "code",
   "execution_count": 20,
   "metadata": {},
   "outputs": [
    {
     "data": {
      "text/plain": [
       "array([0.983, 0.006, 0.615, 0.047, 0.994, 1.   , 1.   , 1.   , 0.999,\n",
       "       0.   , 0.   , 0.   , 1.   , 1.   , 0.999, 0.998, 0.997, 1.   ,\n",
       "       1.   , 0.999, 0.   , 0.147, 0.   , 1.   , 0.   , 0.897, 0.001,\n",
       "       0.   , 0.999, 0.135, 0.987, 0.   , 0.983, 0.938, 0.002, 0.   ,\n",
       "       0.997, 1.   , 0.143, 0.999, 0.378, 0.999, 0.999, 1.   , 0.999,\n",
       "       0.863, 0.015, 1.   , 0.999, 1.   , 0.999, 0.001, 1.   , 1.   ,\n",
       "       1.   , 0.999, 1.   , 0.996, 1.   , 0.895, 0.999, 0.933, 0.   ,\n",
       "       0.001, 1.   , 0.997, 0.001, 0.993, 1.   , 1.   , 0.   , 0.999,\n",
       "       0.   , 0.999, 0.999, 0.   , 1.   , 1.   , 1.   , 0.   , 0.   ,\n",
       "       0.963, 0.999, 1.   , 0.999, 0.992, 0.999, 0.998, 0.995, 0.   ,\n",
       "       0.565, 1.   , 0.003, 0.001, 1.   , 0.003, 0.008, 0.999, 0.001,\n",
       "       0.743, 0.001, 0.001, 0.998, 0.999, 0.361, 0.999, 0.999, 0.976,\n",
       "       0.999, 1.   , 0.497, 0.995, 0.999, 0.999], dtype=float32)"
      ]
     },
     "execution_count": 20,
     "metadata": {},
     "output_type": "execute_result"
    }
   ],
   "source": [
    "pred_probs = xgb_model.predict(dtest)\n",
    "np.round(pred_probs, 3)\n"
   ]
  },
  {
   "cell_type": "code",
   "execution_count": 22,
   "metadata": {},
   "outputs": [],
   "source": [
    "pred = [1 if x > 0.5 else 0 for x in pred_probs]"
   ]
  },
  {
   "cell_type": "code",
   "execution_count": 29,
   "metadata": {},
   "outputs": [
    {
     "name": "stdout",
     "output_type": "stream",
     "text": [
      "Confusion matrix\n",
      "[[34  3]\n",
      " [ 3 74]]\n",
      "acc: 0.9474, precision: 0.9610, recall: 0.9610, F1: 0.9610, roc_auc: 0.9933\n"
     ]
    }
   ],
   "source": [
    "get_clf_eval(Y_test, pred, pred_probs)"
   ]
  },
  {
   "cell_type": "markdown",
   "metadata": {},
   "source": [
    "xgb.plot_importance(xgb_model)"
   ]
  },
  {
   "cell_type": "code",
   "execution_count": 43,
   "metadata": {},
   "outputs": [
    {
     "name": "stdout",
     "output_type": "stream",
     "text": [
      "[15:23:07] WARNING: ..\\src\\learner.cc:576: \n",
      "Parameters: { \"n_estimator\" } might not be used.\n",
      "\n",
      "  This could be a false alarm, with some parameters getting used by language bindings but\n",
      "  then being mistakenly passed down to XGBoost core, or some parameter actually being used\n",
      "  but getting flagged wrongly here. Please open an issue if you find any such cases.\n",
      "\n",
      "\n",
      "[0]\tvalidation_0-logloss:0.65016\tvalidation_1-logloss:0.66183\n",
      "[1]\tvalidation_0-logloss:0.61131\tvalidation_1-logloss:0.63609\n",
      "[2]\tvalidation_0-logloss:0.57563\tvalidation_1-logloss:0.61144\n",
      "[3]\tvalidation_0-logloss:0.54310\tvalidation_1-logloss:0.59204\n",
      "[4]\tvalidation_0-logloss:0.51323\tvalidation_1-logloss:0.57329\n",
      "[5]\tvalidation_0-logloss:0.48447\tvalidation_1-logloss:0.55037\n",
      "[6]\tvalidation_0-logloss:0.45796\tvalidation_1-logloss:0.52929\n",
      "[7]\tvalidation_0-logloss:0.43436\tvalidation_1-logloss:0.51534\n",
      "[8]\tvalidation_0-logloss:0.41150\tvalidation_1-logloss:0.49718\n",
      "[9]\tvalidation_0-logloss:0.39027\tvalidation_1-logloss:0.48154\n",
      "[10]\tvalidation_0-logloss:0.37128\tvalidation_1-logloss:0.46990\n",
      "[11]\tvalidation_0-logloss:0.35254\tvalidation_1-logloss:0.45474\n",
      "[12]\tvalidation_0-logloss:0.33528\tvalidation_1-logloss:0.44229\n",
      "[13]\tvalidation_0-logloss:0.31893\tvalidation_1-logloss:0.42961\n",
      "[14]\tvalidation_0-logloss:0.30439\tvalidation_1-logloss:0.42065\n",
      "[15]\tvalidation_0-logloss:0.29000\tvalidation_1-logloss:0.40958\n",
      "[16]\tvalidation_0-logloss:0.27651\tvalidation_1-logloss:0.39887\n",
      "[17]\tvalidation_0-logloss:0.26389\tvalidation_1-logloss:0.39050\n",
      "[18]\tvalidation_0-logloss:0.25210\tvalidation_1-logloss:0.38254\n",
      "[19]\tvalidation_0-logloss:0.24123\tvalidation_1-logloss:0.37393\n",
      "[20]\tvalidation_0-logloss:0.23076\tvalidation_1-logloss:0.36789\n",
      "[21]\tvalidation_0-logloss:0.22091\tvalidation_1-logloss:0.36017\n",
      "[22]\tvalidation_0-logloss:0.21155\tvalidation_1-logloss:0.35421\n",
      "[23]\tvalidation_0-logloss:0.20263\tvalidation_1-logloss:0.34683\n",
      "[24]\tvalidation_0-logloss:0.19434\tvalidation_1-logloss:0.34111\n",
      "[25]\tvalidation_0-logloss:0.18637\tvalidation_1-logloss:0.33634\n",
      "[26]\tvalidation_0-logloss:0.17875\tvalidation_1-logloss:0.33082\n",
      "[27]\tvalidation_0-logloss:0.17167\tvalidation_1-logloss:0.32675\n",
      "[28]\tvalidation_0-logloss:0.16481\tvalidation_1-logloss:0.32099\n",
      "[29]\tvalidation_0-logloss:0.15835\tvalidation_1-logloss:0.31671\n",
      "[30]\tvalidation_0-logloss:0.15225\tvalidation_1-logloss:0.31277\n",
      "[31]\tvalidation_0-logloss:0.14650\tvalidation_1-logloss:0.30882\n",
      "[32]\tvalidation_0-logloss:0.14102\tvalidation_1-logloss:0.30437\n",
      "[33]\tvalidation_0-logloss:0.13590\tvalidation_1-logloss:0.30103\n",
      "[34]\tvalidation_0-logloss:0.13109\tvalidation_1-logloss:0.29794\n",
      "[35]\tvalidation_0-logloss:0.12647\tvalidation_1-logloss:0.29499\n",
      "[36]\tvalidation_0-logloss:0.12197\tvalidation_1-logloss:0.29295\n",
      "[37]\tvalidation_0-logloss:0.11784\tvalidation_1-logloss:0.29043\n",
      "[38]\tvalidation_0-logloss:0.11379\tvalidation_1-logloss:0.28927\n",
      "[39]\tvalidation_0-logloss:0.10994\tvalidation_1-logloss:0.28578\n",
      "[40]\tvalidation_0-logloss:0.10638\tvalidation_1-logloss:0.28364\n",
      "[41]\tvalidation_0-logloss:0.10302\tvalidation_1-logloss:0.28183\n",
      "[42]\tvalidation_0-logloss:0.09963\tvalidation_1-logloss:0.28005\n",
      "[43]\tvalidation_0-logloss:0.09649\tvalidation_1-logloss:0.27972\n",
      "[44]\tvalidation_0-logloss:0.09359\tvalidation_1-logloss:0.27744\n",
      "[45]\tvalidation_0-logloss:0.09080\tvalidation_1-logloss:0.27542\n",
      "[46]\tvalidation_0-logloss:0.08807\tvalidation_1-logloss:0.27504\n",
      "[47]\tvalidation_0-logloss:0.08541\tvalidation_1-logloss:0.27458\n",
      "[48]\tvalidation_0-logloss:0.08299\tvalidation_1-logloss:0.27348\n",
      "[49]\tvalidation_0-logloss:0.08035\tvalidation_1-logloss:0.27247\n",
      "[50]\tvalidation_0-logloss:0.07786\tvalidation_1-logloss:0.27163\n",
      "[51]\tvalidation_0-logloss:0.07550\tvalidation_1-logloss:0.27094\n",
      "[52]\tvalidation_0-logloss:0.07344\tvalidation_1-logloss:0.26967\n",
      "[53]\tvalidation_0-logloss:0.07147\tvalidation_1-logloss:0.27008\n",
      "[54]\tvalidation_0-logloss:0.06964\tvalidation_1-logloss:0.26890\n",
      "[55]\tvalidation_0-logloss:0.06766\tvalidation_1-logloss:0.26854\n",
      "[56]\tvalidation_0-logloss:0.06592\tvalidation_1-logloss:0.26900\n",
      "[57]\tvalidation_0-logloss:0.06433\tvalidation_1-logloss:0.26790\n",
      "[58]\tvalidation_0-logloss:0.06259\tvalidation_1-logloss:0.26663\n",
      "[59]\tvalidation_0-logloss:0.06107\tvalidation_1-logloss:0.26743\n",
      "[60]\tvalidation_0-logloss:0.05957\tvalidation_1-logloss:0.26610\n",
      "[61]\tvalidation_0-logloss:0.05817\tvalidation_1-logloss:0.26644\n",
      "[62]\tvalidation_0-logloss:0.05691\tvalidation_1-logloss:0.26673\n",
      "[63]\tvalidation_0-logloss:0.05550\tvalidation_1-logloss:0.26550\n",
      "[64]\tvalidation_0-logloss:0.05422\tvalidation_1-logloss:0.26443\n",
      "[65]\tvalidation_0-logloss:0.05311\tvalidation_1-logloss:0.26500\n",
      "[66]\tvalidation_0-logloss:0.05207\tvalidation_1-logloss:0.26591\n",
      "[67]\tvalidation_0-logloss:0.05093\tvalidation_1-logloss:0.26501\n",
      "[68]\tvalidation_0-logloss:0.04976\tvalidation_1-logloss:0.26435\n",
      "[69]\tvalidation_0-logloss:0.04872\tvalidation_1-logloss:0.26360\n",
      "[70]\tvalidation_0-logloss:0.04776\tvalidation_1-logloss:0.26319\n",
      "[71]\tvalidation_0-logloss:0.04680\tvalidation_1-logloss:0.26255\n",
      "[72]\tvalidation_0-logloss:0.04580\tvalidation_1-logloss:0.26204\n",
      "[73]\tvalidation_0-logloss:0.04484\tvalidation_1-logloss:0.26254\n",
      "[74]\tvalidation_0-logloss:0.04388\tvalidation_1-logloss:0.26289\n",
      "[75]\tvalidation_0-logloss:0.04309\tvalidation_1-logloss:0.26249\n",
      "[76]\tvalidation_0-logloss:0.04224\tvalidation_1-logloss:0.26217\n",
      "[77]\tvalidation_0-logloss:0.04133\tvalidation_1-logloss:0.26166\n",
      "[78]\tvalidation_0-logloss:0.04050\tvalidation_1-logloss:0.26179\n",
      "[79]\tvalidation_0-logloss:0.03967\tvalidation_1-logloss:0.26103\n",
      "[80]\tvalidation_0-logloss:0.03877\tvalidation_1-logloss:0.26094\n",
      "[81]\tvalidation_0-logloss:0.03806\tvalidation_1-logloss:0.26148\n",
      "[82]\tvalidation_0-logloss:0.03740\tvalidation_1-logloss:0.26054\n",
      "[83]\tvalidation_0-logloss:0.03676\tvalidation_1-logloss:0.25967\n",
      "[84]\tvalidation_0-logloss:0.03605\tvalidation_1-logloss:0.25905\n",
      "[85]\tvalidation_0-logloss:0.03545\tvalidation_1-logloss:0.26007\n",
      "[86]\tvalidation_0-logloss:0.03488\tvalidation_1-logloss:0.25984\n",
      "[87]\tvalidation_0-logloss:0.03425\tvalidation_1-logloss:0.25933\n",
      "[88]\tvalidation_0-logloss:0.03361\tvalidation_1-logloss:0.25932\n",
      "[89]\tvalidation_0-logloss:0.03311\tvalidation_1-logloss:0.26002\n",
      "[90]\tvalidation_0-logloss:0.03260\tvalidation_1-logloss:0.25936\n",
      "[91]\tvalidation_0-logloss:0.03202\tvalidation_1-logloss:0.25886\n",
      "[92]\tvalidation_0-logloss:0.03152\tvalidation_1-logloss:0.25918\n",
      "[93]\tvalidation_0-logloss:0.03107\tvalidation_1-logloss:0.25865\n",
      "[94]\tvalidation_0-logloss:0.03049\tvalidation_1-logloss:0.25951\n",
      "[95]\tvalidation_0-logloss:0.03007\tvalidation_1-logloss:0.26091\n",
      "[96]\tvalidation_0-logloss:0.02963\tvalidation_1-logloss:0.26014\n",
      "[97]\tvalidation_0-logloss:0.02913\tvalidation_1-logloss:0.25974\n",
      "[98]\tvalidation_0-logloss:0.02866\tvalidation_1-logloss:0.25937\n",
      "[99]\tvalidation_0-logloss:0.02829\tvalidation_1-logloss:0.25893\n",
      "Confusion matrix\n",
      "[[34  3]\n",
      " [ 3 74]]\n",
      "acc: 0.9474, precision: 0.9610, recall: 0.9610, F1: 0.9610, roc_auc: 0.9933\n"
     ]
    },
    {
     "name": "stderr",
     "output_type": "stream",
     "text": [
      "c:\\Users\\test\\.conda\\envs\\HRD\\lib\\site-packages\\xgboost\\sklearn.py:1224: UserWarning: The use of label encoder in XGBClassifier is deprecated and will be removed in a future release. To remove this warning, do the following: 1) Pass option use_label_encoder=False when constructing XGBClassifier object; and 2) Encode your labels (y) as integers starting with 0, i.e. 0, 1, 2, ..., [num_class - 1].\n",
      "  warnings.warn(label_encoder_deprecation_msg, UserWarning)\n"
     ]
    }
   ],
   "source": [
    "xgb_wrapper = XGBClassifier(n_estimator=400, learning_rate=0.05, max_depth=3)\n",
    "evals = [\n",
    "    (X_tr, Y_tr),\n",
    "    (X_val, Y_val)\n",
    "]\n",
    "xgb_wrapper.fit(X_tr, Y_tr, early_stopping_rounds=50, eval_metric='logloss', eval_set=evals, verbose=True)\n",
    "\n",
    "w_pred = xgb_wrapper.predict(X_test)\n",
    "w_pred_proba = xgb_wrapper.predict_proba(X_test)[:, 1]\n",
    "\n",
    "get_clf_eval(Y_test, w_pred, w_pred_proba)"
   ]
  },
  {
   "cell_type": "code",
   "execution_count": null,
   "metadata": {},
   "outputs": [],
   "source": [
    "#############################################################"
   ]
  },
  {
   "cell_type": "code",
   "execution_count": 8,
   "metadata": {},
   "outputs": [
    {
     "name": "stdout",
     "output_type": "stream",
     "text": [
      "[1]\ttraining's binary_logloss: 0.625671\tvalid_1's binary_logloss: 0.628248\n",
      "Training until validation scores don't improve for 50 rounds\n",
      "[2]\ttraining's binary_logloss: 0.588173\tvalid_1's binary_logloss: 0.601106\n",
      "[3]\ttraining's binary_logloss: 0.554518\tvalid_1's binary_logloss: 0.577587\n",
      "[4]\ttraining's binary_logloss: 0.523972\tvalid_1's binary_logloss: 0.556324\n",
      "[5]\ttraining's binary_logloss: 0.49615\tvalid_1's binary_logloss: 0.537407\n",
      "[6]\ttraining's binary_logloss: 0.470108\tvalid_1's binary_logloss: 0.519401\n",
      "[7]\ttraining's binary_logloss: 0.446647\tvalid_1's binary_logloss: 0.502637\n",
      "[8]\ttraining's binary_logloss: 0.425055\tvalid_1's binary_logloss: 0.488311\n",
      "[9]\ttraining's binary_logloss: 0.405125\tvalid_1's binary_logloss: 0.474664\n",
      "[10]\ttraining's binary_logloss: 0.386526\tvalid_1's binary_logloss: 0.461267\n",
      "[11]\ttraining's binary_logloss: 0.367027\tvalid_1's binary_logloss: 0.444274\n",
      "[12]\ttraining's binary_logloss: 0.350713\tvalid_1's binary_logloss: 0.432755\n",
      "[13]\ttraining's binary_logloss: 0.334601\tvalid_1's binary_logloss: 0.421371\n",
      "[14]\ttraining's binary_logloss: 0.319854\tvalid_1's binary_logloss: 0.411418\n",
      "[15]\ttraining's binary_logloss: 0.306374\tvalid_1's binary_logloss: 0.402989\n",
      "[16]\ttraining's binary_logloss: 0.293116\tvalid_1's binary_logloss: 0.393973\n",
      "[17]\ttraining's binary_logloss: 0.280812\tvalid_1's binary_logloss: 0.384801\n",
      "[18]\ttraining's binary_logloss: 0.268352\tvalid_1's binary_logloss: 0.376191\n",
      "[19]\ttraining's binary_logloss: 0.256942\tvalid_1's binary_logloss: 0.368378\n",
      "[20]\ttraining's binary_logloss: 0.246443\tvalid_1's binary_logloss: 0.362062\n",
      "[21]\ttraining's binary_logloss: 0.236874\tvalid_1's binary_logloss: 0.355162\n",
      "[22]\ttraining's binary_logloss: 0.227501\tvalid_1's binary_logloss: 0.348933\n",
      "[23]\ttraining's binary_logloss: 0.218988\tvalid_1's binary_logloss: 0.342819\n",
      "[24]\ttraining's binary_logloss: 0.210621\tvalid_1's binary_logloss: 0.337386\n",
      "[25]\ttraining's binary_logloss: 0.202076\tvalid_1's binary_logloss: 0.331523\n",
      "[26]\ttraining's binary_logloss: 0.194199\tvalid_1's binary_logloss: 0.326349\n",
      "[27]\ttraining's binary_logloss: 0.187107\tvalid_1's binary_logloss: 0.322785\n",
      "[28]\ttraining's binary_logloss: 0.180535\tvalid_1's binary_logloss: 0.317877\n",
      "[29]\ttraining's binary_logloss: 0.173834\tvalid_1's binary_logloss: 0.313928\n",
      "[30]\ttraining's binary_logloss: 0.167198\tvalid_1's binary_logloss: 0.310105\n",
      "[31]\ttraining's binary_logloss: 0.161229\tvalid_1's binary_logloss: 0.307107\n",
      "[32]\ttraining's binary_logloss: 0.155494\tvalid_1's binary_logloss: 0.303837\n",
      "[33]\ttraining's binary_logloss: 0.149125\tvalid_1's binary_logloss: 0.300315\n",
      "[34]\ttraining's binary_logloss: 0.144045\tvalid_1's binary_logloss: 0.297816\n",
      "[35]\ttraining's binary_logloss: 0.139341\tvalid_1's binary_logloss: 0.295387\n",
      "[36]\ttraining's binary_logloss: 0.134625\tvalid_1's binary_logloss: 0.293063\n",
      "[37]\ttraining's binary_logloss: 0.129167\tvalid_1's binary_logloss: 0.289127\n",
      "[38]\ttraining's binary_logloss: 0.12472\tvalid_1's binary_logloss: 0.288697\n",
      "[39]\ttraining's binary_logloss: 0.11974\tvalid_1's binary_logloss: 0.28576\n",
      "[40]\ttraining's binary_logloss: 0.115054\tvalid_1's binary_logloss: 0.282853\n",
      "[41]\ttraining's binary_logloss: 0.110662\tvalid_1's binary_logloss: 0.279441\n",
      "[42]\ttraining's binary_logloss: 0.106358\tvalid_1's binary_logloss: 0.28113\n",
      "[43]\ttraining's binary_logloss: 0.102324\tvalid_1's binary_logloss: 0.279139\n",
      "[44]\ttraining's binary_logloss: 0.0985699\tvalid_1's binary_logloss: 0.276465\n",
      "[45]\ttraining's binary_logloss: 0.094858\tvalid_1's binary_logloss: 0.275946\n",
      "[46]\ttraining's binary_logloss: 0.0912486\tvalid_1's binary_logloss: 0.272819\n",
      "[47]\ttraining's binary_logloss: 0.0883115\tvalid_1's binary_logloss: 0.272306\n",
      "[48]\ttraining's binary_logloss: 0.0849963\tvalid_1's binary_logloss: 0.270452\n",
      "[49]\ttraining's binary_logloss: 0.0821742\tvalid_1's binary_logloss: 0.268671\n",
      "[50]\ttraining's binary_logloss: 0.0789991\tvalid_1's binary_logloss: 0.267587\n",
      "[51]\ttraining's binary_logloss: 0.0761072\tvalid_1's binary_logloss: 0.26626\n",
      "[52]\ttraining's binary_logloss: 0.0732567\tvalid_1's binary_logloss: 0.265542\n",
      "[53]\ttraining's binary_logloss: 0.0706388\tvalid_1's binary_logloss: 0.264547\n",
      "[54]\ttraining's binary_logloss: 0.0683911\tvalid_1's binary_logloss: 0.26502\n",
      "[55]\ttraining's binary_logloss: 0.0659347\tvalid_1's binary_logloss: 0.264388\n",
      "[56]\ttraining's binary_logloss: 0.0636873\tvalid_1's binary_logloss: 0.263128\n",
      "[57]\ttraining's binary_logloss: 0.0613354\tvalid_1's binary_logloss: 0.26231\n",
      "[58]\ttraining's binary_logloss: 0.0591944\tvalid_1's binary_logloss: 0.262011\n",
      "[59]\ttraining's binary_logloss: 0.057033\tvalid_1's binary_logloss: 0.261454\n",
      "[60]\ttraining's binary_logloss: 0.0550801\tvalid_1's binary_logloss: 0.260746\n",
      "[61]\ttraining's binary_logloss: 0.0532381\tvalid_1's binary_logloss: 0.260236\n",
      "[62]\ttraining's binary_logloss: 0.0514074\tvalid_1's binary_logloss: 0.261586\n",
      "[63]\ttraining's binary_logloss: 0.0494837\tvalid_1's binary_logloss: 0.261797\n",
      "[64]\ttraining's binary_logloss: 0.0477826\tvalid_1's binary_logloss: 0.262533\n",
      "[65]\ttraining's binary_logloss: 0.0460364\tvalid_1's binary_logloss: 0.263305\n",
      "[66]\ttraining's binary_logloss: 0.0444552\tvalid_1's binary_logloss: 0.264072\n",
      "[67]\ttraining's binary_logloss: 0.0427638\tvalid_1's binary_logloss: 0.266223\n",
      "[68]\ttraining's binary_logloss: 0.0412449\tvalid_1's binary_logloss: 0.266817\n",
      "[69]\ttraining's binary_logloss: 0.0398589\tvalid_1's binary_logloss: 0.267819\n",
      "[70]\ttraining's binary_logloss: 0.0383095\tvalid_1's binary_logloss: 0.267484\n",
      "[71]\ttraining's binary_logloss: 0.0368803\tvalid_1's binary_logloss: 0.270233\n",
      "[72]\ttraining's binary_logloss: 0.0355637\tvalid_1's binary_logloss: 0.268442\n",
      "[73]\ttraining's binary_logloss: 0.0341747\tvalid_1's binary_logloss: 0.26895\n",
      "[74]\ttraining's binary_logloss: 0.0328302\tvalid_1's binary_logloss: 0.266958\n",
      "[75]\ttraining's binary_logloss: 0.0317853\tvalid_1's binary_logloss: 0.268091\n",
      "[76]\ttraining's binary_logloss: 0.0305626\tvalid_1's binary_logloss: 0.266419\n",
      "[77]\ttraining's binary_logloss: 0.0295001\tvalid_1's binary_logloss: 0.268588\n",
      "[78]\ttraining's binary_logloss: 0.0284699\tvalid_1's binary_logloss: 0.270964\n",
      "[79]\ttraining's binary_logloss: 0.0273953\tvalid_1's binary_logloss: 0.270293\n",
      "[80]\ttraining's binary_logloss: 0.0264668\tvalid_1's binary_logloss: 0.270523\n",
      "[81]\ttraining's binary_logloss: 0.0254636\tvalid_1's binary_logloss: 0.270683\n",
      "[82]\ttraining's binary_logloss: 0.0245911\tvalid_1's binary_logloss: 0.273187\n",
      "[83]\ttraining's binary_logloss: 0.0236486\tvalid_1's binary_logloss: 0.275994\n",
      "[84]\ttraining's binary_logloss: 0.0228047\tvalid_1's binary_logloss: 0.274053\n",
      "[85]\ttraining's binary_logloss: 0.0221693\tvalid_1's binary_logloss: 0.273211\n",
      "[86]\ttraining's binary_logloss: 0.0213043\tvalid_1's binary_logloss: 0.272626\n",
      "[87]\ttraining's binary_logloss: 0.0203934\tvalid_1's binary_logloss: 0.27534\n",
      "[88]\ttraining's binary_logloss: 0.0195552\tvalid_1's binary_logloss: 0.276228\n",
      "[89]\ttraining's binary_logloss: 0.0188623\tvalid_1's binary_logloss: 0.27525\n",
      "[90]\ttraining's binary_logloss: 0.0183664\tvalid_1's binary_logloss: 0.276485\n",
      "[91]\ttraining's binary_logloss: 0.0176788\tvalid_1's binary_logloss: 0.277052\n",
      "[92]\ttraining's binary_logloss: 0.0170059\tvalid_1's binary_logloss: 0.277686\n",
      "[93]\ttraining's binary_logloss: 0.0164317\tvalid_1's binary_logloss: 0.275332\n",
      "[94]\ttraining's binary_logloss: 0.015878\tvalid_1's binary_logloss: 0.276236\n",
      "[95]\ttraining's binary_logloss: 0.0152959\tvalid_1's binary_logloss: 0.274538\n",
      "[96]\ttraining's binary_logloss: 0.0147216\tvalid_1's binary_logloss: 0.275244\n",
      "[97]\ttraining's binary_logloss: 0.0141758\tvalid_1's binary_logloss: 0.275829\n",
      "[98]\ttraining's binary_logloss: 0.0136551\tvalid_1's binary_logloss: 0.276654\n",
      "[99]\ttraining's binary_logloss: 0.0131585\tvalid_1's binary_logloss: 0.277859\n",
      "[100]\ttraining's binary_logloss: 0.0126961\tvalid_1's binary_logloss: 0.279265\n",
      "[101]\ttraining's binary_logloss: 0.0122421\tvalid_1's binary_logloss: 0.276695\n",
      "[102]\ttraining's binary_logloss: 0.0118067\tvalid_1's binary_logloss: 0.278488\n",
      "[103]\ttraining's binary_logloss: 0.0113994\tvalid_1's binary_logloss: 0.278932\n",
      "[104]\ttraining's binary_logloss: 0.0109799\tvalid_1's binary_logloss: 0.280997\n",
      "[105]\ttraining's binary_logloss: 0.0105953\tvalid_1's binary_logloss: 0.281454\n",
      "[106]\ttraining's binary_logloss: 0.0102381\tvalid_1's binary_logloss: 0.282058\n",
      "[107]\ttraining's binary_logloss: 0.00986714\tvalid_1's binary_logloss: 0.279275\n",
      "[108]\ttraining's binary_logloss: 0.00950998\tvalid_1's binary_logloss: 0.281427\n",
      "[109]\ttraining's binary_logloss: 0.00915965\tvalid_1's binary_logloss: 0.280752\n",
      "[110]\ttraining's binary_logloss: 0.00882581\tvalid_1's binary_logloss: 0.282152\n",
      "[111]\ttraining's binary_logloss: 0.00850714\tvalid_1's binary_logloss: 0.280894\n",
      "Early stopping, best iteration is:\n",
      "[61]\ttraining's binary_logloss: 0.0532381\tvalid_1's binary_logloss: 0.260236\n",
      "Confusion matrix\n",
      "[[34  3]\n",
      " [ 2 75]]\n",
      "acc: 0.9561, precision: 0.9615, recall: 0.9740, F1: 0.9677, roc_auc: 0.9877\n"
     ]
    }
   ],
   "source": [
    "dataset = load_breast_cancer()\n",
    "X_train, X_test, Y_train, Y_test = train_test_split(dataset.data, dataset.target, test_size=0.2, random_state=156)\n",
    "X_tr, X_val, Y_tr, Y_val = train_test_split(X_train, Y_train, test_size=0.1, random_state=156)\n",
    "\n",
    "lgbm_wrapper = LGBMClassifier(n_estimators=400, learning_rate=0.05)\n",
    "evals = [\n",
    "    (X_tr, Y_tr),\n",
    "    (X_val, Y_val)\n",
    "]\n",
    "lgbm_wrapper.fit(X_tr, Y_tr, early_stopping_rounds=50, eval_metric='logloss', eval_set=evals, verbose=True)\n",
    "pred = lgbm_wrapper.predict(X_test)\n",
    "pred_proba = lgbm_wrapper.predict_proba(X_test)[:, 1]\n",
    "get_clf_eval(Y_test, pred, pred_proba)"
   ]
  },
  {
   "cell_type": "code",
   "execution_count": 10,
   "metadata": {},
   "outputs": [
    {
     "data": {
      "text/plain": [
       "<AxesSubplot:title={'center':'Feature importance'}, xlabel='Feature importance', ylabel='Features'>"
      ]
     },
     "execution_count": 10,
     "metadata": {},
     "output_type": "execute_result"
    },
    {
     "data": {
      "image/png": "[encoded data removed]",
      "text/plain": [
       "<Figure size 720x864 with 1 Axes>"
      ]
     },
     "metadata": {
      "needs_background": "light"
     },
     "output_type": "display_data"
    }
   ],
   "source": [
    "fig, ax = plt.subplots(figsize=(10, 12))\n",
    "plot_importance(lgbm_wrapper, ax=ax)"
   ]
  },
  {
   "cell_type": "code",
   "execution_count": 20,
   "metadata": {},
   "outputs": [
    {
     "data": {
      "text/plain": [
       "{'max_depth': <hyperopt.pyll.base.Apply at 0x239bba3f370>,\n",
       " 'min_child_weight': <hyperopt.pyll.base.Apply at 0x239bba3fbe0>,\n",
       " 'learning_rate': <hyperopt.pyll.base.Apply at 0x239b874ea00>,\n",
       " 'colsample_bytree': <hyperopt.pyll.base.Apply at 0x239b8c64cd0>}"
      ]
     },
     "execution_count": 20,
     "metadata": {},
     "output_type": "execute_result"
    }
   ],
   "source": [
    "dataset = load_breast_cancer()\n",
    "X_train, X_test, Y_train, Y_test = train_test_split(dataset.data, dataset.target, test_size=0.2, random_state=156)\n",
    "X_tr, X_val, Y_tr, Y_val = train_test_split(X_train, Y_train, test_size=0.1, random_state=156)\n",
    "\n",
    "lgbm_wrapper = LGBMClassifier(n_estimators=400, learning_rate=0.05)\n",
    "\n",
    "xgb_search_space = {\n",
    "    'max_depth': hp.quniform('max_depth', 5, 20, 1),\n",
    "    'min_child_weight': hp.quniform('min_child_weight', 1, 2, 1),\n",
    "    'learning_rate': hp.uniform('learning_rate', 0.01, 0.2),\n",
    "    'colsample_bytree': hp.uniform('colsample_bytree', 0.5, 1)\n",
    "}\n"
   ]
  },
  {
   "cell_type": "code",
   "execution_count": 17,
   "metadata": {},
   "outputs": [],
   "source": [
    "def objective_func(search_space):\n",
    "    xgb_clf = XGBClassifier(n_estimators=100, max_depth=int(search_space['max_depth']), min_child_weight=int(search_space['min_child_weight']), learning_rate=search_space['learning_rate'], colsample_bytree=search_space['colsample_bytree'], eval_metric='logloss')\n",
    "    acc = cross_val_score(xgb_clf, X_train, Y_train, scoring='accuracy', cv=3)    \n",
    "    return {'loss': -1*np.mean(acc), 'status': STATUS_OK}"
   ]
  },
  {
   "cell_type": "code",
   "execution_count": 19,
   "metadata": {},
   "outputs": [
    {
     "name": "stdout",
     "output_type": "stream",
     "text": [
      "  0%|          | 0/50 [00:00<?, ?trial/s, best loss=?]"
     ]
    },
    {
     "name": "stderr",
     "output_type": "stream",
     "text": [
      "c:\\Users\\test\\.conda\\envs\\HRD\\lib\\site-packages\\xgboost\\sklearn.py:1224: UserWarning: The use of label encoder in XGBClassifier is deprecated and will be removed in a future release. To remove this warning, do the following: 1) Pass option use_label_encoder=False when constructing XGBClassifier object; and 2) Encode your labels (y) as integers starting with 0, i.e. 0, 1, 2, ..., [num_class - 1].\n",
      "  warnings.warn(label_encoder_deprecation_msg, UserWarning)\n",
      "\n",
      "c:\\Users\\test\\.conda\\envs\\HRD\\lib\\site-packages\\xgboost\\sklearn.py:1224: UserWarning: The use of label encoder in XGBClassifier is deprecated and will be removed in a future release. To remove this warning, do the following: 1) Pass option use_label_encoder=False when constructing XGBClassifier object; and 2) Encode your labels (y) as integers starting with 0, i.e. 0, 1, 2, ..., [num_class - 1].\n",
      "  warnings.warn(label_encoder_deprecation_msg, UserWarning)\n",
      "\n",
      "c:\\Users\\test\\.conda\\envs\\HRD\\lib\\site-packages\\xgboost\\sklearn.py:1224: UserWarning: The use of label encoder in XGBClassifier is deprecated and will be removed in a future release. To remove this warning, do the following: 1) Pass option use_label_encoder=False when constructing XGBClassifier object; and 2) Encode your labels (y) as integers starting with 0, i.e. 0, 1, 2, ..., [num_class - 1].\n",
      "  warnings.warn(label_encoder_deprecation_msg, UserWarning)\n",
      "\n",
      "job exception: 'NoneType' object is not iterable\n",
      "\n"
     ]
    },
    {
     "name": "stdout",
     "output_type": "stream",
     "text": [
      "  0%|          | 0/50 [00:00<?, ?trial/s, best loss=?]\n"
     ]
    },
    {
     "ename": "TypeError",
     "evalue": "'NoneType' object is not iterable",
     "output_type": "error",
     "traceback": [
      "\u001b[1;31m---------------------------------------------------------------------------\u001b[0m",
      "\u001b[1;31mTypeError\u001b[0m                                 Traceback (most recent call last)",
      "\u001b[1;32mc:\\workspace\\HRD_PYTHON\\Python\\20220615_4_ensemble_human_and_cancer_XGBoost_lightGBM.ipynb Cell 8'\u001b[0m in \u001b[0;36m<cell line: 2>\u001b[1;34m()\u001b[0m\n\u001b[0;32m      <a href='vscode-notebook-cell:/c%3A/workspace/HRD_PYTHON/Python/20220615_4_ensemble_human_and_cancer_XGBoost_lightGBM.ipynb#ch0000007?line=0'>1</a>\u001b[0m trial_val \u001b[39m=\u001b[39m Trials()\n\u001b[1;32m----> <a href='vscode-notebook-cell:/c%3A/workspace/HRD_PYTHON/Python/20220615_4_ensemble_human_and_cancer_XGBoost_lightGBM.ipynb#ch0000007?line=1'>2</a>\u001b[0m best \u001b[39m=\u001b[39m fmin(fn\u001b[39m=\u001b[39;49mobjective_func, space\u001b[39m=\u001b[39;49mxgb_search_space, algo\u001b[39m=\u001b[39;49mtpe\u001b[39m.\u001b[39;49msuggest, max_evals\u001b[39m=\u001b[39;49m\u001b[39m50\u001b[39;49m, trials\u001b[39m=\u001b[39;49mtrial_val, rstate\u001b[39m=\u001b[39;49mnp\u001b[39m.\u001b[39;49mrandom\u001b[39m.\u001b[39;49mdefault_rng(seed\u001b[39m=\u001b[39;49m\u001b[39m9\u001b[39;49m))\n\u001b[0;32m      <a href='vscode-notebook-cell:/c%3A/workspace/HRD_PYTHON/Python/20220615_4_ensemble_human_and_cancer_XGBoost_lightGBM.ipynb#ch0000007?line=2'>3</a>\u001b[0m \u001b[39mprint\u001b[39m(best)\n",
      "File \u001b[1;32mc:\\Users\\test\\.conda\\envs\\HRD\\lib\\site-packages\\hyperopt\\fmin.py:540\u001b[0m, in \u001b[0;36mfmin\u001b[1;34m(fn, space, algo, max_evals, timeout, loss_threshold, trials, rstate, allow_trials_fmin, pass_expr_memo_ctrl, catch_eval_exceptions, verbose, return_argmin, points_to_evaluate, max_queue_len, show_progressbar, early_stop_fn, trials_save_file)\u001b[0m\n\u001b[0;32m    537\u001b[0m     fn \u001b[39m=\u001b[39m __objective_fmin_wrapper(fn)\n\u001b[0;32m    539\u001b[0m \u001b[39mif\u001b[39;00m allow_trials_fmin \u001b[39mand\u001b[39;00m \u001b[39mhasattr\u001b[39m(trials, \u001b[39m\"\u001b[39m\u001b[39mfmin\u001b[39m\u001b[39m\"\u001b[39m):\n\u001b[1;32m--> 540\u001b[0m     \u001b[39mreturn\u001b[39;00m trials\u001b[39m.\u001b[39;49mfmin(\n\u001b[0;32m    541\u001b[0m         fn,\n\u001b[0;32m    542\u001b[0m         space,\n\u001b[0;32m    543\u001b[0m         algo\u001b[39m=\u001b[39;49malgo,\n\u001b[0;32m    544\u001b[0m         max_evals\u001b[39m=\u001b[39;49mmax_evals,\n\u001b[0;32m    545\u001b[0m         timeout\u001b[39m=\u001b[39;49mtimeout,\n\u001b[0;32m    546\u001b[0m         loss_threshold\u001b[39m=\u001b[39;49mloss_threshold,\n\u001b[0;32m    547\u001b[0m         max_queue_len\u001b[39m=\u001b[39;49mmax_queue_len,\n\u001b[0;32m    548\u001b[0m         rstate\u001b[39m=\u001b[39;49mrstate,\n\u001b[0;32m    549\u001b[0m         pass_expr_memo_ctrl\u001b[39m=\u001b[39;49mpass_expr_memo_ctrl,\n\u001b[0;32m    550\u001b[0m         verbose\u001b[39m=\u001b[39;49mverbose,\n\u001b[0;32m    551\u001b[0m         catch_eval_exceptions\u001b[39m=\u001b[39;49mcatch_eval_exceptions,\n\u001b[0;32m    552\u001b[0m         return_argmin\u001b[39m=\u001b[39;49mreturn_argmin,\n\u001b[0;32m    553\u001b[0m         show_progressbar\u001b[39m=\u001b[39;49mshow_progressbar,\n\u001b[0;32m    554\u001b[0m         early_stop_fn\u001b[39m=\u001b[39;49mearly_stop_fn,\n\u001b[0;32m    555\u001b[0m         trials_save_file\u001b[39m=\u001b[39;49mtrials_save_file,\n\u001b[0;32m    556\u001b[0m     )\n\u001b[0;32m    558\u001b[0m \u001b[39mif\u001b[39;00m trials \u001b[39mis\u001b[39;00m \u001b[39mNone\u001b[39;00m:\n\u001b[0;32m    559\u001b[0m     \u001b[39mif\u001b[39;00m os\u001b[39m.\u001b[39mpath\u001b[39m.\u001b[39mexists(trials_save_file):\n",
      "File \u001b[1;32mc:\\Users\\test\\.conda\\envs\\HRD\\lib\\site-packages\\hyperopt\\base.py:671\u001b[0m, in \u001b[0;36mTrials.fmin\u001b[1;34m(self, fn, space, algo, max_evals, timeout, loss_threshold, max_queue_len, rstate, verbose, pass_expr_memo_ctrl, catch_eval_exceptions, return_argmin, show_progressbar, early_stop_fn, trials_save_file)\u001b[0m\n\u001b[0;32m    666\u001b[0m \u001b[39m# -- Stop-gap implementation!\u001b[39;00m\n\u001b[0;32m    667\u001b[0m \u001b[39m#    fmin should have been a Trials method in the first place\u001b[39;00m\n\u001b[0;32m    668\u001b[0m \u001b[39m#    but for now it's still sitting in another file.\u001b[39;00m\n\u001b[0;32m    669\u001b[0m \u001b[39mfrom\u001b[39;00m \u001b[39m.\u001b[39;00m\u001b[39mfmin\u001b[39;00m \u001b[39mimport\u001b[39;00m fmin\n\u001b[1;32m--> 671\u001b[0m \u001b[39mreturn\u001b[39;00m fmin(\n\u001b[0;32m    672\u001b[0m     fn,\n\u001b[0;32m    673\u001b[0m     space,\n\u001b[0;32m    674\u001b[0m     algo\u001b[39m=\u001b[39;49malgo,\n\u001b[0;32m    675\u001b[0m     max_evals\u001b[39m=\u001b[39;49mmax_evals,\n\u001b[0;32m    676\u001b[0m     timeout\u001b[39m=\u001b[39;49mtimeout,\n\u001b[0;32m    677\u001b[0m     loss_threshold\u001b[39m=\u001b[39;49mloss_threshold,\n\u001b[0;32m    678\u001b[0m     trials\u001b[39m=\u001b[39;49m\u001b[39mself\u001b[39;49m,\n\u001b[0;32m    679\u001b[0m     rstate\u001b[39m=\u001b[39;49mrstate,\n\u001b[0;32m    680\u001b[0m     verbose\u001b[39m=\u001b[39;49mverbose,\n\u001b[0;32m    681\u001b[0m     max_queue_len\u001b[39m=\u001b[39;49mmax_queue_len,\n\u001b[0;32m    682\u001b[0m     allow_trials_fmin\u001b[39m=\u001b[39;49m\u001b[39mFalse\u001b[39;49;00m,  \u001b[39m# -- prevent recursion\u001b[39;49;00m\n\u001b[0;32m    683\u001b[0m     pass_expr_memo_ctrl\u001b[39m=\u001b[39;49mpass_expr_memo_ctrl,\n\u001b[0;32m    684\u001b[0m     catch_eval_exceptions\u001b[39m=\u001b[39;49mcatch_eval_exceptions,\n\u001b[0;32m    685\u001b[0m     return_argmin\u001b[39m=\u001b[39;49mreturn_argmin,\n\u001b[0;32m    686\u001b[0m     show_progressbar\u001b[39m=\u001b[39;49mshow_progressbar,\n\u001b[0;32m    687\u001b[0m     early_stop_fn\u001b[39m=\u001b[39;49mearly_stop_fn,\n\u001b[0;32m    688\u001b[0m     trials_save_file\u001b[39m=\u001b[39;49mtrials_save_file,\n\u001b[0;32m    689\u001b[0m )\n",
      "File \u001b[1;32mc:\\Users\\test\\.conda\\envs\\HRD\\lib\\site-packages\\hyperopt\\fmin.py:586\u001b[0m, in \u001b[0;36mfmin\u001b[1;34m(fn, space, algo, max_evals, timeout, loss_threshold, trials, rstate, allow_trials_fmin, pass_expr_memo_ctrl, catch_eval_exceptions, verbose, return_argmin, points_to_evaluate, max_queue_len, show_progressbar, early_stop_fn, trials_save_file)\u001b[0m\n\u001b[0;32m    583\u001b[0m rval\u001b[39m.\u001b[39mcatch_eval_exceptions \u001b[39m=\u001b[39m catch_eval_exceptions\n\u001b[0;32m    585\u001b[0m \u001b[39m# next line is where the fmin is actually executed\u001b[39;00m\n\u001b[1;32m--> 586\u001b[0m rval\u001b[39m.\u001b[39;49mexhaust()\n\u001b[0;32m    588\u001b[0m \u001b[39mif\u001b[39;00m return_argmin:\n\u001b[0;32m    589\u001b[0m     \u001b[39mif\u001b[39;00m \u001b[39mlen\u001b[39m(trials\u001b[39m.\u001b[39mtrials) \u001b[39m==\u001b[39m \u001b[39m0\u001b[39m:\n",
      "File \u001b[1;32mc:\\Users\\test\\.conda\\envs\\HRD\\lib\\site-packages\\hyperopt\\fmin.py:364\u001b[0m, in \u001b[0;36mFMinIter.exhaust\u001b[1;34m(self)\u001b[0m\n\u001b[0;32m    362\u001b[0m \u001b[39mdef\u001b[39;00m \u001b[39mexhaust\u001b[39m(\u001b[39mself\u001b[39m):\n\u001b[0;32m    363\u001b[0m     n_done \u001b[39m=\u001b[39m \u001b[39mlen\u001b[39m(\u001b[39mself\u001b[39m\u001b[39m.\u001b[39mtrials)\n\u001b[1;32m--> 364\u001b[0m     \u001b[39mself\u001b[39;49m\u001b[39m.\u001b[39;49mrun(\u001b[39mself\u001b[39;49m\u001b[39m.\u001b[39;49mmax_evals \u001b[39m-\u001b[39;49m n_done, block_until_done\u001b[39m=\u001b[39;49m\u001b[39mself\u001b[39;49m\u001b[39m.\u001b[39;49masynchronous)\n\u001b[0;32m    365\u001b[0m     \u001b[39mself\u001b[39m\u001b[39m.\u001b[39mtrials\u001b[39m.\u001b[39mrefresh()\n\u001b[0;32m    366\u001b[0m     \u001b[39mreturn\u001b[39;00m \u001b[39mself\u001b[39m\n",
      "File \u001b[1;32mc:\\Users\\test\\.conda\\envs\\HRD\\lib\\site-packages\\hyperopt\\fmin.py:300\u001b[0m, in \u001b[0;36mFMinIter.run\u001b[1;34m(self, N, block_until_done)\u001b[0m\n\u001b[0;32m    297\u001b[0m     time\u001b[39m.\u001b[39msleep(\u001b[39mself\u001b[39m\u001b[39m.\u001b[39mpoll_interval_secs)\n\u001b[0;32m    298\u001b[0m \u001b[39melse\u001b[39;00m:\n\u001b[0;32m    299\u001b[0m     \u001b[39m# -- loop over trials and do the jobs directly\u001b[39;00m\n\u001b[1;32m--> 300\u001b[0m     \u001b[39mself\u001b[39;49m\u001b[39m.\u001b[39;49mserial_evaluate()\n\u001b[0;32m    302\u001b[0m \u001b[39mself\u001b[39m\u001b[39m.\u001b[39mtrials\u001b[39m.\u001b[39mrefresh()\n\u001b[0;32m    303\u001b[0m \u001b[39mif\u001b[39;00m \u001b[39mself\u001b[39m\u001b[39m.\u001b[39mtrials_save_file \u001b[39m!=\u001b[39m \u001b[39m\"\u001b[39m\u001b[39m\"\u001b[39m:\n",
      "File \u001b[1;32mc:\\Users\\test\\.conda\\envs\\HRD\\lib\\site-packages\\hyperopt\\fmin.py:178\u001b[0m, in \u001b[0;36mFMinIter.serial_evaluate\u001b[1;34m(self, N)\u001b[0m\n\u001b[0;32m    176\u001b[0m ctrl \u001b[39m=\u001b[39m base\u001b[39m.\u001b[39mCtrl(\u001b[39mself\u001b[39m\u001b[39m.\u001b[39mtrials, current_trial\u001b[39m=\u001b[39mtrial)\n\u001b[0;32m    177\u001b[0m \u001b[39mtry\u001b[39;00m:\n\u001b[1;32m--> 178\u001b[0m     result \u001b[39m=\u001b[39m \u001b[39mself\u001b[39;49m\u001b[39m.\u001b[39;49mdomain\u001b[39m.\u001b[39;49mevaluate(spec, ctrl)\n\u001b[0;32m    179\u001b[0m \u001b[39mexcept\u001b[39;00m \u001b[39mException\u001b[39;00m \u001b[39mas\u001b[39;00m e:\n\u001b[0;32m    180\u001b[0m     logger\u001b[39m.\u001b[39merror(\u001b[39m\"\u001b[39m\u001b[39mjob exception: \u001b[39m\u001b[39m%s\u001b[39;00m\u001b[39m\"\u001b[39m \u001b[39m%\u001b[39m \u001b[39mstr\u001b[39m(e))\n",
      "File \u001b[1;32mc:\\Users\\test\\.conda\\envs\\HRD\\lib\\site-packages\\hyperopt\\base.py:897\u001b[0m, in \u001b[0;36mDomain.evaluate\u001b[1;34m(self, config, ctrl, attach_attachments)\u001b[0m\n\u001b[0;32m    895\u001b[0m     dict_rval \u001b[39m=\u001b[39m {\u001b[39m\"\u001b[39m\u001b[39mloss\u001b[39m\u001b[39m\"\u001b[39m: \u001b[39mfloat\u001b[39m(rval), \u001b[39m\"\u001b[39m\u001b[39mstatus\u001b[39m\u001b[39m\"\u001b[39m: STATUS_OK}\n\u001b[0;32m    896\u001b[0m \u001b[39melse\u001b[39;00m:\n\u001b[1;32m--> 897\u001b[0m     dict_rval \u001b[39m=\u001b[39m \u001b[39mdict\u001b[39;49m(rval)\n\u001b[0;32m    898\u001b[0m     status \u001b[39m=\u001b[39m dict_rval[\u001b[39m\"\u001b[39m\u001b[39mstatus\u001b[39m\u001b[39m\"\u001b[39m]\n\u001b[0;32m    899\u001b[0m     \u001b[39mif\u001b[39;00m status \u001b[39mnot\u001b[39;00m \u001b[39min\u001b[39;00m STATUS_STRINGS:\n",
      "\u001b[1;31mTypeError\u001b[0m: 'NoneType' object is not iterable"
     ]
    }
   ],
   "source": [
    "trial_val = Trials()\n",
    "best = fmin(fn=objective_func, space=xgb_search_space, algo=tpe.suggest, max_evals=50, trials=trial_val, rstate=np.random.default_rng(seed=9))\n",
    "print(best)"
   ]
  },
  {
   "cell_type": "code",
   "execution_count": null,
   "metadata": {},
   "outputs": [],
   "source": []
  },
  {
   "cell_type": "code",
   "execution_count": null,
   "metadata": {},
   "outputs": [],
   "source": []
  },
  {
   "cell_type": "code",
   "execution_count": null,
   "metadata": {},
   "outputs": [],
   "source": []
  },
  {
   "cell_type": "code",
   "execution_count": null,
   "metadata": {},
   "outputs": [],
   "source": []
  }
 ],
 "metadata": {
  "kernelspec": {
   "display_name": "Python 3.8.0 ('HRD')",
   "language": "python",
   "name": "python3"
  },
  "language_info": {
   "codemirror_mode": {
    "name": "ipython",
    "version": 3
   },
   "file_extension": ".py",
   "mimetype": "text/x-python",
   "name": "python",
   "nbconvert_exporter": "python",
   "pygments_lexer": "ipython3",
   "version": "3.8.0"
  },
  "orig_nbformat": 4,
  "vscode": {
   "interpreter": {
    "hash": "181e3df9e13de62506545d086bbebda856de817f2992da68be102c0ac9881710"
   }
  }
 },
 "nbformat": 4,
 "nbformat_minor": 2
}
