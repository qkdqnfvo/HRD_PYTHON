{
 "cells": [
  {
   "cell_type": "code",
   "execution_count": 34,
   "metadata": {},
   "outputs": [],
   "source": [
    "import numpy as np\n",
    "import matplotlib.pyplot as plt\n",
    "\n",
    "np.random.seed(0)"
   ]
  },
  {
   "cell_type": "code",
   "execution_count": 35,
   "metadata": {},
   "outputs": [],
   "source": [
    "# y = 4x + 6\n",
    "X = 2 * np.random.rand(100, 1)"
   ]
  },
  {
   "cell_type": "code",
   "execution_count": 36,
   "metadata": {},
   "outputs": [],
   "source": [
    "Y = 4 * X + 6 + np.random.randn(100, 1) # 뒤 random은 노이즈(임의로 만들어준), 앞의 값이 실제 값"
   ]
  },
  {
   "cell_type": "code",
   "execution_count": 37,
   "metadata": {},
   "outputs": [
    {
     "data": {
      "text/plain": [
       "<matplotlib.collections.PathCollection at 0x1f7f21617f0>"
      ]
     },
     "execution_count": 37,
     "metadata": {},
     "output_type": "execute_result"
    },
    {
     "data": {
      "image/png": "[encoded data removed]",
      "text/plain": [
       "<Figure size 432x288 with 1 Axes>"
      ]
     },
     "metadata": {
      "needs_background": "light"
     },
     "output_type": "display_data"
    }
   ],
   "source": [
    "plt.scatter(X, Y)"
   ]
  },
  {
   "cell_type": "code",
   "execution_count": 38,
   "metadata": {},
   "outputs": [],
   "source": [
    "def get_cost(Y, Y_pred):\n",
    "    N = len(Y)\n",
    "    cost = np.sum(np.square(Y - Y_pred)) / N\n",
    "    return cost"
   ]
  },
  {
   "cell_type": "code",
   "execution_count": 39,
   "metadata": {},
   "outputs": [],
   "source": [
    "def get_weight_updates(w1, w0, X, Y, learning_rate=0.01):\n",
    "    N = len(Y)\n",
    "    w1_update = np.zeros_like(w1)\n",
    "    w0_update = np.zeros_like(w0)\n",
    "\n",
    "    Y_pred = np.dot(X, w1.T) + w0 # dot: 행렬 곱\n",
    "    diff = Y - Y_pred\n",
    "\n",
    "    w0_factors = np.ones((N, 1))\n",
    "\n",
    "    w1_update = -(2 / N) * learning_rate * (np.dot(X.T, diff))\n",
    "    w0_update = -(2 / N) * learning_rate * (np.dot(w0_factors.T, diff))\n",
    "\n",
    "    return w1_update, w0_update"
   ]
  },
  {
   "cell_type": "code",
   "execution_count": 40,
   "metadata": {},
   "outputs": [],
   "source": [
    "def gradient_descent_steps(X, Y, iters=10000):\n",
    "    w1 = np.zeros((1, 1))\n",
    "    w0 = np.zeros((1, 1))\n",
    "    for ind in range(iters):\n",
    "        w1_updates, w0_updates = get_weight_updates(w1, w0, X, Y, learning_rate=0.01)\n",
    "        w1 = w1 - w1_updates\n",
    "        w0 = w0 - w0_updates\n",
    "    return w1, w0"
   ]
  },
  {
   "cell_type": "code",
   "execution_count": 41,
   "metadata": {},
   "outputs": [
    {
     "data": {
      "text/plain": [
       "(array([[3.96846751]]), array([[6.22215108]]))"
      ]
     },
     "execution_count": 41,
     "metadata": {},
     "output_type": "execute_result"
    }
   ],
   "source": [
    "w1, w0 = gradient_descent_steps(X, Y, iters=10000)\n",
    "w1, w0"
   ]
  },
  {
   "cell_type": "code",
   "execution_count": 42,
   "metadata": {},
   "outputs": [
    {
     "data": {
      "text/plain": [
       "0.9924386487246484"
      ]
     },
     "execution_count": 42,
     "metadata": {},
     "output_type": "execute_result"
    }
   ],
   "source": [
    "Y_pred = w1[0, 0] * X + w0[0, 0]   # w1[0][0] == w1[0, 0]\n",
    "get_cost(Y, Y_pred)"
   ]
  },
  {
   "cell_type": "code",
   "execution_count": 43,
   "metadata": {},
   "outputs": [
    {
     "data": {
      "text/plain": [
       "[<matplotlib.lines.Line2D at 0x1f7f21d1100>]"
      ]
     },
     "execution_count": 43,
     "metadata": {},
     "output_type": "execute_result"
    },
    {
     "data": {
      "image/png": "[encoded data removed]",
      "text/plain": [
       "<Figure size 432x288 with 1 Axes>"
      ]
     },
     "metadata": {
      "needs_background": "light"
     },
     "output_type": "display_data"
    }
   ],
   "source": [
    "plt.scatter(X, Y)\n",
    "plt.plot(X, Y_pred)"
   ]
  },
  {
   "cell_type": "code",
   "execution_count": 52,
   "metadata": {},
   "outputs": [],
   "source": [
    "def stochastic_gradient_descent_steps(X, Y, batch_size=10, iters=1000):\n",
    "    w1 = np.zeros((1, 1))\n",
    "    w0 = np.zeros((1, 1))\n",
    "    prev_cost = 100000\n",
    "    iter_index= 0\n",
    "    for ind in range(iters):\n",
    "        np.random.seed(ind)\n",
    "        stochastic_random_index = np.random.permutation(X.shape[0])\n",
    "        sample_X = X[stochastic_random_index[0:batch_size]]\n",
    "        sample_Y = Y[stochastic_random_index[0:batch_size]]\n",
    "        w1_updates, w0_updates = get_weight_updates(w1, w0, sample_X, sample_Y, learning_rate=0.01)\n",
    "        w1 = w1 - w1_updates\n",
    "        w0 = w0 - w0_updates\n",
    "    return w1, w0"
   ]
  },
  {
   "cell_type": "code",
   "execution_count": 53,
   "metadata": {},
   "outputs": [
    {
     "name": "stdout",
     "output_type": "stream",
     "text": [
      "4.028262908613388 6.156458908870072\n",
      "0.9937111256675345\n"
     ]
    }
   ],
   "source": [
    "w1, w0 = stochastic_gradient_descent_steps(X, Y, iters=1000)\n",
    "print(w1[0, 0], w0[0, 0])\n",
    "Y_pred = w1[0, 0] * X + w0[0, 0]   # w1[0][0] == w1[0, 0]\n",
    "print(get_cost(Y, Y_pred))"
   ]
  }
 ],
 "metadata": {
  "kernelspec": {
   "display_name": "Python 3.8.0 ('HRD')",
   "language": "python",
   "name": "python3"
  },
  "language_info": {
   "codemirror_mode": {
    "name": "ipython",
    "version": 3
   },
   "file_extension": ".py",
   "mimetype": "text/x-python",
   "name": "python",
   "nbconvert_exporter": "python",
   "pygments_lexer": "ipython3",
   "version": "3.8.0"
  },
  "orig_nbformat": 4,
  "vscode": {
   "interpreter": {
    "hash": "181e3df9e13de62506545d086bbebda856de817f2992da68be102c0ac9881710"
   }
  }
 },
 "nbformat": 4,
 "nbformat_minor": 2
}
